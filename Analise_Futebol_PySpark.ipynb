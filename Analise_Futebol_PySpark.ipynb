{
  "nbformat": 4,
  "nbformat_minor": 0,
  "metadata": {
    "colab": {
      "provenance": [],
      "authorship_tag": "ABX9TyMGyJgrupdU4DrtFjpZNuMY",
      "include_colab_link": true
    },
    "kernelspec": {
      "name": "python3",
      "display_name": "Python 3"
    },
    "language_info": {
      "name": "python"
    }
  },
  "cells": [
    {
      "cell_type": "markdown",
      "metadata": {
        "id": "view-in-github",
        "colab_type": "text"
      },
      "source": [
        "<a href=\"https://colab.research.google.com/github/AurelioVill/Aulas-Python/blob/main/Analise_Futebol_PySpark.ipynb\" target=\"_parent\"><img src=\"https://colab.research.google.com/assets/colab-badge.svg\" alt=\"Open In Colab\"/></a>"
      ]
    },
    {
      "cell_type": "code",
      "execution_count": 2,
      "metadata": {
        "colab": {
          "base_uri": "https://localhost:8080/"
        },
        "id": "S_cp9BeKrtCk",
        "outputId": "3247911b-e85a-4449-fa34-8c0abaafbd71"
      },
      "outputs": [
        {
          "output_type": "stream",
          "name": "stdout",
          "text": [
            "Requirement already satisfied: matplotlib in /usr/local/lib/python3.10/dist-packages (3.7.1)\n",
            "Requirement already satisfied: contourpy>=1.0.1 in /usr/local/lib/python3.10/dist-packages (from matplotlib) (1.2.1)\n",
            "Requirement already satisfied: cycler>=0.10 in /usr/local/lib/python3.10/dist-packages (from matplotlib) (0.12.1)\n",
            "Requirement already satisfied: fonttools>=4.22.0 in /usr/local/lib/python3.10/dist-packages (from matplotlib) (4.53.1)\n",
            "Requirement already satisfied: kiwisolver>=1.0.1 in /usr/local/lib/python3.10/dist-packages (from matplotlib) (1.4.5)\n",
            "Requirement already satisfied: numpy>=1.20 in /usr/local/lib/python3.10/dist-packages (from matplotlib) (1.26.4)\n",
            "Requirement already satisfied: packaging>=20.0 in /usr/local/lib/python3.10/dist-packages (from matplotlib) (24.1)\n",
            "Requirement already satisfied: pillow>=6.2.0 in /usr/local/lib/python3.10/dist-packages (from matplotlib) (9.4.0)\n",
            "Requirement already satisfied: pyparsing>=2.3.1 in /usr/local/lib/python3.10/dist-packages (from matplotlib) (3.1.2)\n",
            "Requirement already satisfied: python-dateutil>=2.7 in /usr/local/lib/python3.10/dist-packages (from matplotlib) (2.8.2)\n",
            "Requirement already satisfied: six>=1.5 in /usr/local/lib/python3.10/dist-packages (from python-dateutil>=2.7->matplotlib) (1.16.0)\n"
          ]
        }
      ],
      "source": [
        "!pip install matplotlib"
      ]
    },
    {
      "cell_type": "code",
      "source": [
        "!pip install mplsoccer"
      ],
      "metadata": {
        "colab": {
          "base_uri": "https://localhost:8080/"
        },
        "id": "owU-IVM6skZ1",
        "outputId": "57af25ec-bf1b-4049-d3c4-a542d0b3b23e"
      },
      "execution_count": 3,
      "outputs": [
        {
          "output_type": "stream",
          "name": "stdout",
          "text": [
            "Collecting mplsoccer\n",
            "  Downloading mplsoccer-1.4.0-py3-none-any.whl.metadata (4.8 kB)\n",
            "Requirement already satisfied: matplotlib>=3.6 in /usr/local/lib/python3.10/dist-packages (from mplsoccer) (3.7.1)\n",
            "Requirement already satisfied: numpy in /usr/local/lib/python3.10/dist-packages (from mplsoccer) (1.26.4)\n",
            "Requirement already satisfied: pandas in /usr/local/lib/python3.10/dist-packages (from mplsoccer) (2.1.4)\n",
            "Requirement already satisfied: pillow in /usr/local/lib/python3.10/dist-packages (from mplsoccer) (9.4.0)\n",
            "Requirement already satisfied: requests in /usr/local/lib/python3.10/dist-packages (from mplsoccer) (2.32.3)\n",
            "Requirement already satisfied: scipy in /usr/local/lib/python3.10/dist-packages (from mplsoccer) (1.13.1)\n",
            "Requirement already satisfied: seaborn in /usr/local/lib/python3.10/dist-packages (from mplsoccer) (0.13.1)\n",
            "Requirement already satisfied: contourpy>=1.0.1 in /usr/local/lib/python3.10/dist-packages (from matplotlib>=3.6->mplsoccer) (1.2.1)\n",
            "Requirement already satisfied: cycler>=0.10 in /usr/local/lib/python3.10/dist-packages (from matplotlib>=3.6->mplsoccer) (0.12.1)\n",
            "Requirement already satisfied: fonttools>=4.22.0 in /usr/local/lib/python3.10/dist-packages (from matplotlib>=3.6->mplsoccer) (4.53.1)\n",
            "Requirement already satisfied: kiwisolver>=1.0.1 in /usr/local/lib/python3.10/dist-packages (from matplotlib>=3.6->mplsoccer) (1.4.5)\n",
            "Requirement already satisfied: packaging>=20.0 in /usr/local/lib/python3.10/dist-packages (from matplotlib>=3.6->mplsoccer) (24.1)\n",
            "Requirement already satisfied: pyparsing>=2.3.1 in /usr/local/lib/python3.10/dist-packages (from matplotlib>=3.6->mplsoccer) (3.1.2)\n",
            "Requirement already satisfied: python-dateutil>=2.7 in /usr/local/lib/python3.10/dist-packages (from matplotlib>=3.6->mplsoccer) (2.8.2)\n",
            "Requirement already satisfied: pytz>=2020.1 in /usr/local/lib/python3.10/dist-packages (from pandas->mplsoccer) (2024.1)\n",
            "Requirement already satisfied: tzdata>=2022.1 in /usr/local/lib/python3.10/dist-packages (from pandas->mplsoccer) (2024.1)\n",
            "Requirement already satisfied: charset-normalizer<4,>=2 in /usr/local/lib/python3.10/dist-packages (from requests->mplsoccer) (3.3.2)\n",
            "Requirement already satisfied: idna<4,>=2.5 in /usr/local/lib/python3.10/dist-packages (from requests->mplsoccer) (3.7)\n",
            "Requirement already satisfied: urllib3<3,>=1.21.1 in /usr/local/lib/python3.10/dist-packages (from requests->mplsoccer) (2.0.7)\n",
            "Requirement already satisfied: certifi>=2017.4.17 in /usr/local/lib/python3.10/dist-packages (from requests->mplsoccer) (2024.7.4)\n",
            "Requirement already satisfied: six>=1.5 in /usr/local/lib/python3.10/dist-packages (from python-dateutil>=2.7->matplotlib>=3.6->mplsoccer) (1.16.0)\n",
            "Downloading mplsoccer-1.4.0-py3-none-any.whl (85 kB)\n",
            "\u001b[2K   \u001b[90m━━━━━━━━━━━━━━━━━━━━━━━━━━━━━━━━━━━━━━━━\u001b[0m \u001b[32m85.8/85.8 kB\u001b[0m \u001b[31m1.4 MB/s\u001b[0m eta \u001b[36m0:00:00\u001b[0m\n",
            "\u001b[?25hInstalling collected packages: mplsoccer\n",
            "Successfully installed mplsoccer-1.4.0\n"
          ]
        }
      ]
    },
    {
      "cell_type": "code",
      "source": [
        "#INSTALAR O SPARK NO COLAB\n",
        "!pip install pyspark"
      ],
      "metadata": {
        "colab": {
          "base_uri": "https://localhost:8080/"
        },
        "id": "6WkuYLbjuLEQ",
        "outputId": "39e05cf8-166f-45bd-924b-3293aa75b876"
      },
      "execution_count": 4,
      "outputs": [
        {
          "output_type": "stream",
          "name": "stdout",
          "text": [
            "Collecting pyspark\n",
            "  Downloading pyspark-3.5.2.tar.gz (317.3 MB)\n",
            "\u001b[2K     \u001b[90m━━━━━━━━━━━━━━━━━━━━━━━━━━━━━━━━━━━━━━━━\u001b[0m \u001b[32m317.3/317.3 MB\u001b[0m \u001b[31m3.0 MB/s\u001b[0m eta \u001b[36m0:00:00\u001b[0m\n",
            "\u001b[?25h  Preparing metadata (setup.py) ... \u001b[?25l\u001b[?25hdone\n",
            "Requirement already satisfied: py4j==0.10.9.7 in /usr/local/lib/python3.10/dist-packages (from pyspark) (0.10.9.7)\n",
            "Building wheels for collected packages: pyspark\n",
            "  Building wheel for pyspark (setup.py) ... \u001b[?25l\u001b[?25hdone\n",
            "  Created wheel for pyspark: filename=pyspark-3.5.2-py2.py3-none-any.whl size=317812365 sha256=434732770922c3933a9be7046d59740b372d75a78ff7ed2a51563389e145d89f\n",
            "  Stored in directory: /root/.cache/pip/wheels/34/34/bd/03944534c44b677cd5859f248090daa9fb27b3c8f8e5f49574\n",
            "Successfully built pyspark\n",
            "Installing collected packages: pyspark\n",
            "Successfully installed pyspark-3.5.2\n"
          ]
        }
      ]
    },
    {
      "cell_type": "code",
      "source": [
        "#IMPORTAR SPARK NO COLAB\n",
        "from pyspark.sql import SparkSession"
      ],
      "metadata": {
        "id": "jHaa1DthuhiV"
      },
      "execution_count": 5,
      "outputs": []
    },
    {
      "cell_type": "code",
      "source": [
        "#CRIAR SESSÃO SPARK\n",
        "spark = SparkSession.builder.appName(\"SessionPySpark\").getOrCreate()"
      ],
      "metadata": {
        "id": "Xj-oJCADuzYn"
      },
      "execution_count": 6,
      "outputs": []
    },
    {
      "cell_type": "code",
      "source": [
        "#OBTER CONTEXTO SPARK PARA A SESSÃO\n",
        "sc = spark.sparkContext"
      ],
      "metadata": {
        "id": "DnDIkU4-1wMb"
      },
      "execution_count": 7,
      "outputs": []
    },
    {
      "cell_type": "code",
      "source": [
        "from mplsoccer import Pitch, VerticalPitch\n",
        "import matplotlib.pyplot as plt\n",
        "import numpy as np"
      ],
      "metadata": {
        "id": "R-EqgkPxtPCG"
      },
      "execution_count": 8,
      "outputs": []
    },
    {
      "cell_type": "code",
      "source": [
        "import requests"
      ],
      "metadata": {
        "id": "n4TrmOkq7ZeO"
      },
      "execution_count": 9,
      "outputs": []
    },
    {
      "cell_type": "code",
      "source": [
        "from bs4 import BeautifulSoup"
      ],
      "metadata": {
        "id": "A_IutqAM8VX4"
      },
      "execution_count": 10,
      "outputs": []
    },
    {
      "cell_type": "code",
      "source": [
        "from pyspark.sql.functions import col"
      ],
      "metadata": {
        "id": "26QazPGS-6n9"
      },
      "execution_count": 11,
      "outputs": []
    },
    {
      "cell_type": "code",
      "source": [
        "import pandas as pd\n",
        "from pyspark.sql import SparkSession\n",
        "\n",
        "# Crie uma sessão do Spark\n",
        "spark = SparkSession.builder.appName(\"My App\").getOrCreate()\n",
        "\n",
        "# Leia a tabela HTML com pandas\n",
        "df_pandas = pd.read_html(\"https://fbref.com/pt/partidas/d3926429/Corinthians-Atletico-Mineiro-2024Abril14-Serie-A\", attrs={'id':'stats_bf4acd28_possession'})[0]\n",
        "\n",
        "# Achatamento da hierarquia de colunas\n",
        "df_pandas.columns = ['_'.join(col).strip() for col in df_pandas.columns.values]\n",
        "\n",
        "# Renomeando as colunas\n",
        "df_pandas.columns = [col.replace(' ', '_') for col in df_pandas.columns]\n",
        "\n",
        "# Criando uma coluna index,a coluna index não existe no DataFrame df_spark. Isso porque o método pd.read_html não cria uma coluna index automaticamente.\n",
        "df_pandas.reset_index(inplace=True)\n",
        "\n",
        "# Converta o DataFrame do pandas para um DataFrame do Spark\n",
        "df_spark = spark.createDataFrame(df_pandas)\n",
        "\n",
        "# Remova a linha com índice 16\n",
        "df_estatisticas = df_spark.filter(col(\"index\") != 16)\n",
        "\n",
        "# Exiba o resultado\n",
        "df_estatisticas.show()"
      ],
      "metadata": {
        "colab": {
          "base_uri": "https://localhost:8080/"
        },
        "id": "GP9TYi7U2I_l",
        "outputId": "14a68266-1eeb-4646-fa64-1f4d45692ca7"
      },
      "execution_count": 12,
      "outputs": [
        {
          "output_type": "stream",
          "name": "stdout",
          "text": [
            "+-----+--------------------------+--------------------+------------------------+-----------------------+------------------------+-----------------------+-----------------+----------------+------------------+----------------------+------------------------+----------------+----------------+------------+-----------+------------+------------+-------------+-------------------+-----------------+-----------------+--------------+-------------+-------------+--------------------------+-------------+------------+-------------+\n",
            "|index|Unnamed:_0_level_0_Jogador|Unnamed:_1_level_0_#|Unnamed:_2_level_0_Nação|Unnamed:_3_level_0_Pos.|Unnamed:_4_level_0_Idade|Unnamed:_5_level_0_Min.|Contatos_Contatos|Contatos_Def_Pen|Contatos_Terço_Def|Contatos_Terço_Central|Contatos_Terço_de_Ataque|Contatos_Att_Pen|Contatos_Em_jogo|Dribles_Tent|Dribles_Suc|Dribles_Suc%|Dribles_Tkld|Dribles_Tkld%|Conduções_Conduções|Conduções_DistTot|Conduções_DistPrg|Conduções_PrgC|Conduções_1/3|Conduções_CPA|Conduções_Perda_de_Domínio|Conduções_Dis|Recepção_Rec|Recepção_PrgR|\n",
            "+-----+--------------------------+--------------------+------------------------+-----------------------+------------------------+-----------------------+-----------------+----------------+------------------+----------------------+------------------------+----------------+----------------+------------+-----------+------------+------------+-------------+-------------------+-----------------+-----------------+--------------+-------------+-------------+--------------------------+-------------+------------+-------------+\n",
            "|    0|              Yuri Alberto|                 9.0|                  br BRA|                     FW|                  23-027|                     90|               26|               1|                 1|                     8|                      18|               6|              26|           1|          0|         0.0|           1|       1000.0|                 16|               69|                4|             1|            1|            1|                         8|            0|          18|            4|\n",
            "|    1|            Wesley Ribeiro|                36.0|                  br BRA|                     LW|                  19-040|                     90|               37|               0|                 3|                    28|                      11|               2|              37|           7|          6|       857.0|           1|        143.0|                 25|              216|              134|             4|            6|            1|                         6|            2|          29|            5|\n",
            "|    2|              Ángel Romero|                11.0|                  py PAR|                     RW|                  31-285|                     79|               24|               0|                 0|                    10|                      14|               1|              24|           1|          0|         0.0|           1|       1000.0|                 15|               57|               28|             0|            0|            0|                         2|            1|          23|            8|\n",
            "|    3|                Pedro Raul|                20.0|                  br BRA|                     RW|                  27-161|                     11|                5|               0|                 0|                     3|                       2|               1|               5|           0|          0|         NaN|           0|          NaN|                  0|                0|                0|             0|            0|            0|                         0|            0|           2|            2|\n",
            "|    4|             Rodrigo Garro|                10.0|                  ar ARG|                     AM|                  26-101|                     75|               53|               0|                 1|                    37|                      16|               2|              53|           2|          1|       500.0|           1|        500.0|                 21|              140|               39|             1|            0|            0|                         2|            2|          32|            1|\n",
            "|    5|             Igor Coronado|                77.0|                  br BRA|                     AM|                  31-240|                     15|               15|               0|                 0|                     9|                       6|               0|              15|           1|          1|      1000.0|           0|          0.0|                  9|               57|               37|             2|            2|            0|                         1|            0|          13|            1|\n",
            "|    6|               Fausto Vera|                 5.0|                  ar ARG|                     DM|                  24-019|                     71|               41|               0|                 0|                    37|                       4|               0|              41|           0|          0|         NaN|           0|          NaN|                 22|              149|               74|             3|            0|            0|                         0|            1|          30|            1|\n",
            "|    7|                    Maycon|                 7.0|                  br BRA|                     DM|                  26-274|                     19|               22|               0|                 5|                    13|                       4|               0|              22|           0|          0|         NaN|           0|          NaN|                  7|              108|               90|             3|            1|            0|                         0|            0|          12|            1|\n",
            "|    8|                   Raniele|                14.0|                  br BRA|                  DM,CB|                  27-105|                     90|               48|               2|                11|                    30|                       7|               1|              48|           1|          0|         0.0|           1|       1000.0|                 18|              116|               57|             1|            1|            0|                         1|            0|          29|            2|\n",
            "|    9|                      Hugo|                46.0|                  br BRA|                     LB|                  26-229|                     90|               54|               2|                16|                    31|                       7|               2|              54|           0|          0|         NaN|           0|          NaN|                  9|               82|               29|             1|            0|            0|                         1|            0|          23|            2|\n",
            "|   10|          Gustavo Henrique|                13.0|                  br BRA|                     CB|                  31-021|                     71|               32|               1|                11|                    21|                       0|               0|              32|           0|          0|         NaN|           0|          NaN|                  9|               27|               19|             0|            0|            0|                         1|            0|          14|            0|\n",
            "|   11|                  Paulinho|                 8.0|                  br BRA|                     DM|                  35-264|                     19|               12|               0|                 3|                     5|                       4|               3|              12|           0|          0|         NaN|           0|          NaN|                  2|                5|                3|             0|            1|            0|                         0|            0|           7|            0|\n",
            "|   12|      Félix Torres Caicedo|                 3.0|                  ec ECU|                     CB|                  27-094|                     90|               50|               3|                16|                    32|                       3|               1|              50|           1|          1|      1000.0|           0|          0.0|                 14|               72|               51|             1|            0|            0|                         0|            0|          28|            0|\n",
            "|   13|                    Fagner|                23.0|                  br BRA|                     RB|                  34-308|                     45|               22|               1|                 5|                    12|                       5|               0|              22|           0|          0|         NaN|           0|          NaN|                  7|               42|               36|             1|            0|            0|                         0|            0|          12|            1|\n",
            "|   14|               Matheuzinho|                 2.0|                  br BRA|                     RB|                  23-219|                     45|               33|               2|                 8|                    12|                      13|               1|              33|           0|          0|         NaN|           0|          NaN|                 13|               56|               33|             0|            1|            0|                         0|            0|          21|            8|\n",
            "|   15|                    Cássio|                12.0|                  br BRA|                     GK|                  36-313|                     90|               22|              16|                22|                     0|                       0|               0|              22|           0|          0|         NaN|           0|          NaN|                  6|               62|               43|             0|            0|            0|                         0|            0|           4|            0|\n",
            "+-----+--------------------------+--------------------+------------------------+-----------------------+------------------------+-----------------------+-----------------+----------------+------------------+----------------------+------------------------+----------------+----------------+------------+-----------+------------+------------+-------------+-------------------+-----------------+-----------------+--------------+-------------+-------------+--------------------------+-------------+------------+-------------+\n",
            "\n"
          ]
        }
      ]
    },
    {
      "cell_type": "code",
      "source": [
        "df_estatisticas.printSchema()"
      ],
      "metadata": {
        "colab": {
          "base_uri": "https://localhost:8080/"
        },
        "id": "Pbg2e8Lg3QOM",
        "outputId": "6b29fa08-1c9c-477a-a548-03ee38a83b86"
      },
      "execution_count": 13,
      "outputs": [
        {
          "output_type": "stream",
          "name": "stdout",
          "text": [
            "root\n",
            " |-- index: long (nullable = true)\n",
            " |-- Unnamed:_0_level_0_Jogador: string (nullable = true)\n",
            " |-- Unnamed:_1_level_0_#: double (nullable = true)\n",
            " |-- Unnamed:_2_level_0_Nação: string (nullable = true)\n",
            " |-- Unnamed:_3_level_0_Pos.: string (nullable = true)\n",
            " |-- Unnamed:_4_level_0_Idade: string (nullable = true)\n",
            " |-- Unnamed:_5_level_0_Min.: long (nullable = true)\n",
            " |-- Contatos_Contatos: long (nullable = true)\n",
            " |-- Contatos_Def_Pen: long (nullable = true)\n",
            " |-- Contatos_Terço_Def: long (nullable = true)\n",
            " |-- Contatos_Terço_Central: long (nullable = true)\n",
            " |-- Contatos_Terço_de_Ataque: long (nullable = true)\n",
            " |-- Contatos_Att_Pen: long (nullable = true)\n",
            " |-- Contatos_Em_jogo: long (nullable = true)\n",
            " |-- Dribles_Tent: long (nullable = true)\n",
            " |-- Dribles_Suc: long (nullable = true)\n",
            " |-- Dribles_Suc%: double (nullable = true)\n",
            " |-- Dribles_Tkld: long (nullable = true)\n",
            " |-- Dribles_Tkld%: double (nullable = true)\n",
            " |-- Conduções_Conduções: long (nullable = true)\n",
            " |-- Conduções_DistTot: long (nullable = true)\n",
            " |-- Conduções_DistPrg: long (nullable = true)\n",
            " |-- Conduções_PrgC: long (nullable = true)\n",
            " |-- Conduções_1/3: long (nullable = true)\n",
            " |-- Conduções_CPA: long (nullable = true)\n",
            " |-- Conduções_Perda_de_Domínio: long (nullable = true)\n",
            " |-- Conduções_Dis: long (nullable = true)\n",
            " |-- Recepção_Rec: long (nullable = true)\n",
            " |-- Recepção_PrgR: long (nullable = true)\n",
            "\n"
          ]
        }
      ]
    },
    {
      "cell_type": "code",
      "source": [
        "# Criar uma sessão Spark\n",
        "spark = SparkSession.builder.appName(\"Futebol\").getOrCreate()\n",
        "\n",
        "# Criar DataFrames a partir dos dicionários\n",
        "posicionamento_df = spark.createDataFrame([\n",
        "    (\"Goleiro\", 2, 40),\n",
        "    (\"Ataque\", 90, 40),\n",
        "    (\"Meio-campista-esquerda\", 85, 15),\n",
        "    (\"Meio-campista-direita\", 85, 65),\n",
        "    (\"Meio-campista-meia\", 70, 40),\n",
        "    (\"Meio-defensor-direita\", 44, 60),\n",
        "    (\"Meio-defensor-centro\", 44, 40),\n",
        "    (\"Meio-defensor-esquerda\", 44, 20),\n",
        "    (\"Defesa-centro\", 30, 40),\n",
        "    (\"Defesa-esquerda\", 24, 30),\n",
        "    (\"Defesa-direita\", 24, 50),\n",
        "    (\"Lateral-esquerdo\", 55, 10),\n",
        "    (\"Lateral-direito\", 55, 70)\n",
        "], [\"posicao\", \"y\", \"x\"])\n",
        "\n",
        "jogadores_df = spark.createDataFrame([\n",
        "    (\"Yuri Alberto\", \"Ataque\"),\n",
        "    (\"Wesley Ribeiro\", \"Meio-campista-esquerda\"),\n",
        "    (\"Ángel Romero\", \"Meio-campista-direita\"),\n",
        "    (\"Pedro Raul\", \"Meio-campista-direita\"),\n",
        "    (\"Rodrigo Garro\", \"Meio-campista-meia\"),\n",
        "    (\"Igor Coronado\", \"Meio-campista-meia\"),\n",
        "    (\"Fausto Vera\", \"Meio-defensor-direita\"),\n",
        "    (\"Maycon\", \"Meio-defensor-direita\"),\n",
        "    (\"Raniele\", \"Meio-defensor-esquerda\"),\n",
        "    (\"Hugo\", \"Defesa-direita\"),\n",
        "    (\"Gustavo Henrique\", \"Defesa-centro\"),\n",
        "    (\"Paulinho\", \"Meio-campista-meia\"),\n",
        "    (\"Félix Torres Caicedo\", \"Defesa-esquerda\"),\n",
        "    (\"Fagner\", \"Lateral-esquerdo\"),\n",
        "    (\"Matheuzinho\", \"Lateral-direito\"),\n",
        "    (\"Cássio\", \"Goleiro\")\n",
        "], [\"nome\", \"posicao\"])"
      ],
      "metadata": {
        "id": "QZhrRAM__Os8"
      },
      "execution_count": 14,
      "outputs": []
    },
    {
      "cell_type": "code",
      "source": [
        "# Mesclar os dois DataFrames na coluna \"posicao\"\n",
        "df_merge = posicionamento_df.join(jogadores_df, posicionamento_df.posicao == jogadores_df.posicao, \"left_outer\")\n"
      ],
      "metadata": {
        "id": "kHVbDCwl_Wbx"
      },
      "execution_count": 32,
      "outputs": []
    },
    {
      "cell_type": "code",
      "source": [
        "df_merge.show()"
      ],
      "metadata": {
        "colab": {
          "base_uri": "https://localhost:8080/"
        },
        "id": "t9JaES4lARWy",
        "outputId": "3a8e8063-d37f-4aa5-ccf9-422273eee6da"
      },
      "execution_count": 33,
      "outputs": [
        {
          "output_type": "stream",
          "name": "stdout",
          "text": [
            "+--------------------+---+---+--------------------+--------------------+\n",
            "|             posicao|  y|  x|                nome|             posicao|\n",
            "+--------------------+---+---+--------------------+--------------------+\n",
            "|              Ataque| 90| 40|        Yuri Alberto|              Ataque|\n",
            "|Meio-campista-dir...| 85| 65|          Pedro Raul|Meio-campista-dir...|\n",
            "|Meio-campista-dir...| 85| 65|        Ángel Romero|Meio-campista-dir...|\n",
            "|Meio-campista-esq...| 85| 15|      Wesley Ribeiro|Meio-campista-esq...|\n",
            "|             Goleiro|  2| 40|              Cássio|             Goleiro|\n",
            "|  Meio-campista-meia| 70| 40|            Paulinho|  Meio-campista-meia|\n",
            "|  Meio-campista-meia| 70| 40|       Igor Coronado|  Meio-campista-meia|\n",
            "|  Meio-campista-meia| 70| 40|       Rodrigo Garro|  Meio-campista-meia|\n",
            "|Meio-defensor-dir...| 44| 60|              Maycon|Meio-defensor-dir...|\n",
            "|Meio-defensor-dir...| 44| 60|         Fausto Vera|Meio-defensor-dir...|\n",
            "|Meio-defensor-centro| 44| 40|                NULL|                NULL|\n",
            "|    Lateral-esquerdo| 55| 10|              Fagner|    Lateral-esquerdo|\n",
            "|Meio-defensor-esq...| 44| 20|             Raniele|Meio-defensor-esq...|\n",
            "|       Defesa-centro| 30| 40|    Gustavo Henrique|       Defesa-centro|\n",
            "|     Defesa-esquerda| 24| 30|Félix Torres Caicedo|     Defesa-esquerda|\n",
            "|      Defesa-direita| 24| 50|                Hugo|      Defesa-direita|\n",
            "|     Lateral-direito| 55| 70|         Matheuzinho|     Lateral-direito|\n",
            "+--------------------+---+---+--------------------+--------------------+\n",
            "\n"
          ]
        }
      ]
    },
    {
      "cell_type": "code",
      "source": [
        "df_merge.printSchema()"
      ],
      "metadata": {
        "colab": {
          "base_uri": "https://localhost:8080/"
        },
        "id": "goBCoe-hC_30",
        "outputId": "ddc919bf-a261-43d0-b6a3-da737ab52a65"
      },
      "execution_count": 27,
      "outputs": [
        {
          "output_type": "stream",
          "name": "stdout",
          "text": [
            "root\n",
            " |-- posicao: string (nullable = true)\n",
            " |-- y: long (nullable = true)\n",
            " |-- x: long (nullable = true)\n",
            " |-- nome: string (nullable = true)\n",
            " |-- posicao: string (nullable = true)\n",
            "\n"
          ]
        }
      ]
    },
    {
      "cell_type": "code",
      "source": [
        "display(df_merge.columns)"
      ],
      "metadata": {
        "colab": {
          "base_uri": "https://localhost:8080/",
          "height": 34
        },
        "id": "eOFueOZaDJEi",
        "outputId": "e369c0cf-4935-4a30-de86-a663759297eb"
      },
      "execution_count": 29,
      "outputs": [
        {
          "output_type": "display_data",
          "data": {
            "text/plain": [
              "['posicao', 'y', 'x', 'nome', 'posicao']"
            ]
          },
          "metadata": {}
        }
      ]
    },
    {
      "cell_type": "code",
      "source": [
        "df_estatisticas.show()"
      ],
      "metadata": {
        "colab": {
          "base_uri": "https://localhost:8080/"
        },
        "id": "2-WRy0u7AUEM",
        "outputId": "1f31fe87-8556-4b30-a6d8-83fbede5d19b"
      },
      "execution_count": 17,
      "outputs": [
        {
          "output_type": "stream",
          "name": "stdout",
          "text": [
            "+-----+--------------------------+--------------------+------------------------+-----------------------+------------------------+-----------------------+-----------------+----------------+------------------+----------------------+------------------------+----------------+----------------+------------+-----------+------------+------------+-------------+-------------------+-----------------+-----------------+--------------+-------------+-------------+--------------------------+-------------+------------+-------------+\n",
            "|index|Unnamed:_0_level_0_Jogador|Unnamed:_1_level_0_#|Unnamed:_2_level_0_Nação|Unnamed:_3_level_0_Pos.|Unnamed:_4_level_0_Idade|Unnamed:_5_level_0_Min.|Contatos_Contatos|Contatos_Def_Pen|Contatos_Terço_Def|Contatos_Terço_Central|Contatos_Terço_de_Ataque|Contatos_Att_Pen|Contatos_Em_jogo|Dribles_Tent|Dribles_Suc|Dribles_Suc%|Dribles_Tkld|Dribles_Tkld%|Conduções_Conduções|Conduções_DistTot|Conduções_DistPrg|Conduções_PrgC|Conduções_1/3|Conduções_CPA|Conduções_Perda_de_Domínio|Conduções_Dis|Recepção_Rec|Recepção_PrgR|\n",
            "+-----+--------------------------+--------------------+------------------------+-----------------------+------------------------+-----------------------+-----------------+----------------+------------------+----------------------+------------------------+----------------+----------------+------------+-----------+------------+------------+-------------+-------------------+-----------------+-----------------+--------------+-------------+-------------+--------------------------+-------------+------------+-------------+\n",
            "|    0|              Yuri Alberto|                 9.0|                  br BRA|                     FW|                  23-027|                     90|               26|               1|                 1|                     8|                      18|               6|              26|           1|          0|         0.0|           1|       1000.0|                 16|               69|                4|             1|            1|            1|                         8|            0|          18|            4|\n",
            "|    1|            Wesley Ribeiro|                36.0|                  br BRA|                     LW|                  19-040|                     90|               37|               0|                 3|                    28|                      11|               2|              37|           7|          6|       857.0|           1|        143.0|                 25|              216|              134|             4|            6|            1|                         6|            2|          29|            5|\n",
            "|    2|              Ángel Romero|                11.0|                  py PAR|                     RW|                  31-285|                     79|               24|               0|                 0|                    10|                      14|               1|              24|           1|          0|         0.0|           1|       1000.0|                 15|               57|               28|             0|            0|            0|                         2|            1|          23|            8|\n",
            "|    3|                Pedro Raul|                20.0|                  br BRA|                     RW|                  27-161|                     11|                5|               0|                 0|                     3|                       2|               1|               5|           0|          0|         NaN|           0|          NaN|                  0|                0|                0|             0|            0|            0|                         0|            0|           2|            2|\n",
            "|    4|             Rodrigo Garro|                10.0|                  ar ARG|                     AM|                  26-101|                     75|               53|               0|                 1|                    37|                      16|               2|              53|           2|          1|       500.0|           1|        500.0|                 21|              140|               39|             1|            0|            0|                         2|            2|          32|            1|\n",
            "|    5|             Igor Coronado|                77.0|                  br BRA|                     AM|                  31-240|                     15|               15|               0|                 0|                     9|                       6|               0|              15|           1|          1|      1000.0|           0|          0.0|                  9|               57|               37|             2|            2|            0|                         1|            0|          13|            1|\n",
            "|    6|               Fausto Vera|                 5.0|                  ar ARG|                     DM|                  24-019|                     71|               41|               0|                 0|                    37|                       4|               0|              41|           0|          0|         NaN|           0|          NaN|                 22|              149|               74|             3|            0|            0|                         0|            1|          30|            1|\n",
            "|    7|                    Maycon|                 7.0|                  br BRA|                     DM|                  26-274|                     19|               22|               0|                 5|                    13|                       4|               0|              22|           0|          0|         NaN|           0|          NaN|                  7|              108|               90|             3|            1|            0|                         0|            0|          12|            1|\n",
            "|    8|                   Raniele|                14.0|                  br BRA|                  DM,CB|                  27-105|                     90|               48|               2|                11|                    30|                       7|               1|              48|           1|          0|         0.0|           1|       1000.0|                 18|              116|               57|             1|            1|            0|                         1|            0|          29|            2|\n",
            "|    9|                      Hugo|                46.0|                  br BRA|                     LB|                  26-229|                     90|               54|               2|                16|                    31|                       7|               2|              54|           0|          0|         NaN|           0|          NaN|                  9|               82|               29|             1|            0|            0|                         1|            0|          23|            2|\n",
            "|   10|          Gustavo Henrique|                13.0|                  br BRA|                     CB|                  31-021|                     71|               32|               1|                11|                    21|                       0|               0|              32|           0|          0|         NaN|           0|          NaN|                  9|               27|               19|             0|            0|            0|                         1|            0|          14|            0|\n",
            "|   11|                  Paulinho|                 8.0|                  br BRA|                     DM|                  35-264|                     19|               12|               0|                 3|                     5|                       4|               3|              12|           0|          0|         NaN|           0|          NaN|                  2|                5|                3|             0|            1|            0|                         0|            0|           7|            0|\n",
            "|   12|      Félix Torres Caicedo|                 3.0|                  ec ECU|                     CB|                  27-094|                     90|               50|               3|                16|                    32|                       3|               1|              50|           1|          1|      1000.0|           0|          0.0|                 14|               72|               51|             1|            0|            0|                         0|            0|          28|            0|\n",
            "|   13|                    Fagner|                23.0|                  br BRA|                     RB|                  34-308|                     45|               22|               1|                 5|                    12|                       5|               0|              22|           0|          0|         NaN|           0|          NaN|                  7|               42|               36|             1|            0|            0|                         0|            0|          12|            1|\n",
            "|   14|               Matheuzinho|                 2.0|                  br BRA|                     RB|                  23-219|                     45|               33|               2|                 8|                    12|                      13|               1|              33|           0|          0|         NaN|           0|          NaN|                 13|               56|               33|             0|            1|            0|                         0|            0|          21|            8|\n",
            "|   15|                    Cássio|                12.0|                  br BRA|                     GK|                  36-313|                     90|               22|              16|                22|                     0|                       0|               0|              22|           0|          0|         NaN|           0|          NaN|                  6|               62|               43|             0|            0|            0|                         0|            0|           4|            0|\n",
            "+-----+--------------------------+--------------------+------------------------+-----------------------+------------------------+-----------------------+-----------------+----------------+------------------+----------------------+------------------------+----------------+----------------+------------+-----------+------------+------------+-------------+-------------------+-----------------+-----------------+--------------+-------------+-------------+--------------------------+-------------+------------+-------------+\n",
            "\n"
          ]
        }
      ]
    },
    {
      "cell_type": "code",
      "source": [
        "from pyspark.sql.functions import col, sum, round"
      ],
      "metadata": {
        "id": "ho3FD3gALlru"
      },
      "execution_count": 18,
      "outputs": []
    },
    {
      "cell_type": "code",
      "source": [
        "from pyspark.sql import Window\n",
        "\n",
        "especificacao_janela = Window.partitionBy().rowsBetween(Window.unboundedPreceding, Window.unboundedFollowing)"
      ],
      "metadata": {
        "id": "oGcLkJ-SOTyH"
      },
      "execution_count": 19,
      "outputs": []
    },
    {
      "cell_type": "code",
      "source": [
        "from pyspark.sql import SparkSession\n",
        "from pyspark.sql.functions import col, sum, round\n",
        "\n",
        "# Crie uma sessão Spark\n",
        "spark = SparkSession.builder.appName(\"Estatisticas\").getOrCreate()"
      ],
      "metadata": {
        "id": "eS_wlFdGMPLk"
      },
      "execution_count": 20,
      "outputs": []
    },
    {
      "cell_type": "code",
      "source": [
        "df_estatisticas = df_estatisticas.withColumnRenamed('Unnamed:_0_level_0_Jogador', 'Jogador')"
      ],
      "metadata": {
        "id": "z41lwrLft4M8"
      },
      "execution_count": 21,
      "outputs": []
    },
    {
      "cell_type": "code",
      "source": [
        "df_estatisticas = df_estatisticas.withColumnRenamed('Unnamed:_5_level_0_Min.', 'Minutos')"
      ],
      "metadata": {
        "id": "-aaOkX-KuyvI"
      },
      "execution_count": 22,
      "outputs": []
    },
    {
      "cell_type": "code",
      "source": [
        "df_estatisticas.printSchema()"
      ],
      "metadata": {
        "colab": {
          "base_uri": "https://localhost:8080/"
        },
        "id": "rag2Qxjqt9ry",
        "outputId": "1f042632-d86a-4540-f767-ca7c01de4da9"
      },
      "execution_count": 23,
      "outputs": [
        {
          "output_type": "stream",
          "name": "stdout",
          "text": [
            "root\n",
            " |-- index: long (nullable = true)\n",
            " |-- Jogador: string (nullable = true)\n",
            " |-- Unnamed:_1_level_0_#: double (nullable = true)\n",
            " |-- Unnamed:_2_level_0_Nação: string (nullable = true)\n",
            " |-- Unnamed:_3_level_0_Pos.: string (nullable = true)\n",
            " |-- Unnamed:_4_level_0_Idade: string (nullable = true)\n",
            " |-- Minutos: long (nullable = true)\n",
            " |-- Contatos_Contatos: long (nullable = true)\n",
            " |-- Contatos_Def_Pen: long (nullable = true)\n",
            " |-- Contatos_Terço_Def: long (nullable = true)\n",
            " |-- Contatos_Terço_Central: long (nullable = true)\n",
            " |-- Contatos_Terço_de_Ataque: long (nullable = true)\n",
            " |-- Contatos_Att_Pen: long (nullable = true)\n",
            " |-- Contatos_Em_jogo: long (nullable = true)\n",
            " |-- Dribles_Tent: long (nullable = true)\n",
            " |-- Dribles_Suc: long (nullable = true)\n",
            " |-- Dribles_Suc%: double (nullable = true)\n",
            " |-- Dribles_Tkld: long (nullable = true)\n",
            " |-- Dribles_Tkld%: double (nullable = true)\n",
            " |-- Conduções_Conduções: long (nullable = true)\n",
            " |-- Conduções_DistTot: long (nullable = true)\n",
            " |-- Conduções_DistPrg: long (nullable = true)\n",
            " |-- Conduções_PrgC: long (nullable = true)\n",
            " |-- Conduções_1/3: long (nullable = true)\n",
            " |-- Conduções_CPA: long (nullable = true)\n",
            " |-- Conduções_Perda_de_Domínio: long (nullable = true)\n",
            " |-- Conduções_Dis: long (nullable = true)\n",
            " |-- Recepção_Rec: long (nullable = true)\n",
            " |-- Recepção_PrgR: long (nullable = true)\n",
            "\n"
          ]
        }
      ]
    },
    {
      "cell_type": "code",
      "source": [
        "from pyspark.sql import functions as F\n",
        "from pyspark.sql.window import Window\n",
        "\n",
        "# Definir a janela global\n",
        "global_window = Window.rowsBetween(Window.unboundedPreceding, Window.unboundedFollowing)\n",
        "\n",
        "# Renomear colunas problemáticas para evitar caracteres especiais\n",
        "df_estatisticas = df_estatisticas.withColumnRenamed('Conduções_Conduções', 'Conducoes_Conducoes')\n",
        "df_estatisticas = df_estatisticas.withColumnRenamed('Conduções_DistTot', 'Conducoes_DistTot')\n",
        "df_estatisticas = df_estatisticas.withColumnRenamed('Conduções_DistPrg', 'Conducoes_DistPrg')\n",
        "df_estatisticas = df_estatisticas.withColumnRenamed('Conduções_PrgC', 'Conducoes_Prgc')\n",
        "df_estatisticas = df_estatisticas.withColumnRenamed('Conduções_Perda_de_Domínio', 'Conducoes_Perda_Dominio')\n",
        "df_estatisticas = df_estatisticas.withColumnRenamed('Conduções_Dis', 'Conducoes_Dis')\n",
        "\n",
        "# Calcular as porcentagens e arredondar para duas casas decimais\n",
        "df_estatisticas = (\n",
        "    df_estatisticas\n",
        "    .withColumn(\n",
        "        '%Conducoes',\n",
        "        (F.col('Conducoes_Conducoes') / F.sum('Conducoes_Conducoes').over(global_window)).cast('decimal(10,2)')\n",
        "    )\n",
        "    .withColumn(\n",
        "        '%DistTotal',\n",
        "        (F.col('Conducoes_DistTot') / F.sum('Conducoes_DistTot').over(global_window)).cast('decimal(10,2)')\n",
        "    )\n",
        "    .withColumn(\n",
        "        '%DistAtaque',\n",
        "        (F.col('Conducoes_DistPrg') / F.sum('Conducoes_DistPrg').over(global_window)).cast('decimal(10,2)')\n",
        "    )\n",
        "    .withColumn(\n",
        "        '%ProjAtaque9m',\n",
        "        (F.col('Conducoes_Prgc') / F.sum('Conducoes_Prgc').over(global_window)).cast('decimal(10,2)')\n",
        "    )\n",
        "    .withColumn(\n",
        "        '%PerdaDomínio',\n",
        "        (F.col('Conducoes_Perda_Dominio') / F.sum('Conducoes_Perda_Dominio').over(global_window)).cast('decimal(10,2)')\n",
        "    )\n",
        "    .withColumn(\n",
        "        '%Desarmes',\n",
        "        (F.col('Conducoes_Dis') / F.sum('Conducoes_Dis').over(global_window)).cast('decimal(10,2)')\n",
        "    )\n",
        "    .withColumn(\n",
        "        '%minutos',\n",
        "        (F.col('Minutos') / 90 * 100).cast('decimal(10,2)')\n",
        "    )\n",
        ")\n",
        "\n",
        "# Mesclar com o DataFrame df_jogadores\n",
        "df_estatisticas = df_estatisticas.join(\n",
        "    jogadores_df,\n",
        "    df_estatisticas['Jogador'] == jogadores_df['nome'],\n",
        "    how='inner'\n",
        ").drop(jogadores_df['nome'])\n",
        "\n",
        "# Mostrar o resultado para verificação\n",
        "df_estatisticas.show()\n",
        "\n",
        "\n"
      ],
      "metadata": {
        "colab": {
          "base_uri": "https://localhost:8080/"
        },
        "id": "e_BCdih7NooW",
        "outputId": "9c0766a4-4e55-489b-ca92-3ad8016ad105"
      },
      "execution_count": 24,
      "outputs": [
        {
          "output_type": "stream",
          "name": "stdout",
          "text": [
            "+-----+--------------------+--------------------+------------------------+-----------------------+------------------------+-------+-----------------+----------------+------------------+----------------------+------------------------+----------------+----------------+------------+-----------+------------+------------+-------------+-------------------+-----------------+-----------------+--------------+-------------+-------------+-----------------------+-------------+------------+-------------+----------+----------+-----------+-------------+-------------+---------+--------+--------------------+\n",
            "|index|             Jogador|Unnamed:_1_level_0_#|Unnamed:_2_level_0_Nação|Unnamed:_3_level_0_Pos.|Unnamed:_4_level_0_Idade|Minutos|Contatos_Contatos|Contatos_Def_Pen|Contatos_Terço_Def|Contatos_Terço_Central|Contatos_Terço_de_Ataque|Contatos_Att_Pen|Contatos_Em_jogo|Dribles_Tent|Dribles_Suc|Dribles_Suc%|Dribles_Tkld|Dribles_Tkld%|Conducoes_Conducoes|Conducoes_DistTot|Conducoes_DistPrg|Conducoes_Prgc|Conduções_1/3|Conduções_CPA|Conducoes_Perda_Dominio|Conducoes_Dis|Recepção_Rec|Recepção_PrgR|%Conducoes|%DistTotal|%DistAtaque|%ProjAtaque9m|%PerdaDomínio|%Desarmes|%minutos|             posicao|\n",
            "+-----+--------------------+--------------------+------------------------+-----------------------+------------------------+-------+-----------------+----------------+------------------+----------------------+------------------------+----------------+----------------+------------+-----------+------------+------------+-------------+-------------------+-----------------+-----------------+--------------+-------------+-------------+-----------------------+-------------+------------+-------------+----------+----------+-----------+-------------+-------------+---------+--------+--------------------+\n",
            "|    1|      Wesley Ribeiro|                36.0|                  br BRA|                     LW|                  19-040|     90|               37|               0|                 3|                    28|                      11|               2|              37|           7|          6|       857.0|           1|        143.0|                 25|              216|              134|             4|            6|            1|                      6|            2|          29|            5|      0.13|      0.17|       0.20|         0.22|         0.27|     0.33|  100.00|Meio-campista-esq...|\n",
            "|    4|       Rodrigo Garro|                10.0|                  ar ARG|                     AM|                  26-101|     75|               53|               0|                 1|                    37|                      16|               2|              53|           2|          1|       500.0|           1|        500.0|                 21|              140|               39|             1|            0|            0|                      2|            2|          32|            1|      0.11|      0.11|       0.06|         0.06|         0.09|     0.33|   83.33|  Meio-campista-meia|\n",
            "|    3|          Pedro Raul|                20.0|                  br BRA|                     RW|                  27-161|     11|                5|               0|                 0|                     3|                       2|               1|               5|           0|          0|         NaN|           0|          NaN|                  0|                0|                0|             0|            0|            0|                      0|            0|           2|            2|      0.00|      0.00|       0.00|         0.00|         0.00|     0.00|   12.22|Meio-campista-dir...|\n",
            "|    0|        Yuri Alberto|                 9.0|                  br BRA|                     FW|                  23-027|     90|               26|               1|                 1|                     8|                      18|               6|              26|           1|          0|         0.0|           1|       1000.0|                 16|               69|                4|             1|            1|            1|                      8|            0|          18|            4|      0.08|      0.05|       0.01|         0.06|         0.36|     0.00|  100.00|              Ataque|\n",
            "|    6|         Fausto Vera|                 5.0|                  ar ARG|                     DM|                  24-019|     71|               41|               0|                 0|                    37|                       4|               0|              41|           0|          0|         NaN|           0|          NaN|                 22|              149|               74|             3|            0|            0|                      0|            1|          30|            1|      0.11|      0.12|       0.11|         0.17|         0.00|     0.17|   78.89|Meio-defensor-dir...|\n",
            "|    5|       Igor Coronado|                77.0|                  br BRA|                     AM|                  31-240|     15|               15|               0|                 0|                     9|                       6|               0|              15|           1|          1|      1000.0|           0|          0.0|                  9|               57|               37|             2|            2|            0|                      1|            0|          13|            1|      0.05|      0.05|       0.05|         0.11|         0.05|     0.00|   16.67|  Meio-campista-meia|\n",
            "|    2|        Ángel Romero|                11.0|                  py PAR|                     RW|                  31-285|     79|               24|               0|                 0|                    10|                      14|               1|              24|           1|          0|         0.0|           1|       1000.0|                 15|               57|               28|             0|            0|            0|                      2|            1|          23|            8|      0.08|      0.05|       0.04|         0.00|         0.09|     0.17|   87.78|Meio-campista-dir...|\n",
            "|    7|              Maycon|                 7.0|                  br BRA|                     DM|                  26-274|     19|               22|               0|                 5|                    13|                       4|               0|              22|           0|          0|         NaN|           0|          NaN|                  7|              108|               90|             3|            1|            0|                      0|            0|          12|            1|      0.04|      0.09|       0.13|         0.17|         0.00|     0.00|   21.11|Meio-defensor-dir...|\n",
            "|   14|         Matheuzinho|                 2.0|                  br BRA|                     RB|                  23-219|     45|               33|               2|                 8|                    12|                      13|               1|              33|           0|          0|         NaN|           0|          NaN|                 13|               56|               33|             0|            1|            0|                      0|            0|          21|            8|      0.07|      0.04|       0.05|         0.00|         0.00|     0.00|   50.00|     Lateral-direito|\n",
            "|   15|              Cássio|                12.0|                  br BRA|                     GK|                  36-313|     90|               22|              16|                22|                     0|                       0|               0|              22|           0|          0|         NaN|           0|          NaN|                  6|               62|               43|             0|            0|            0|                      0|            0|           4|            0|      0.03|      0.05|       0.06|         0.00|         0.00|     0.00|  100.00|             Goleiro|\n",
            "|   11|            Paulinho|                 8.0|                  br BRA|                     DM|                  35-264|     19|               12|               0|                 3|                     5|                       4|               3|              12|           0|          0|         NaN|           0|          NaN|                  2|                5|                3|             0|            1|            0|                      0|            0|           7|            0|      0.01|      0.00|       0.00|         0.00|         0.00|     0.00|   21.11|  Meio-campista-meia|\n",
            "|    8|             Raniele|                14.0|                  br BRA|                  DM,CB|                  27-105|     90|               48|               2|                11|                    30|                       7|               1|              48|           1|          0|         0.0|           1|       1000.0|                 18|              116|               57|             1|            1|            0|                      1|            0|          29|            2|      0.09|      0.09|       0.08|         0.06|         0.05|     0.00|  100.00|Meio-defensor-esq...|\n",
            "|    9|                Hugo|                46.0|                  br BRA|                     LB|                  26-229|     90|               54|               2|                16|                    31|                       7|               2|              54|           0|          0|         NaN|           0|          NaN|                  9|               82|               29|             1|            0|            0|                      1|            0|          23|            2|      0.05|      0.07|       0.04|         0.06|         0.05|     0.00|  100.00|      Defesa-direita|\n",
            "|   13|              Fagner|                23.0|                  br BRA|                     RB|                  34-308|     45|               22|               1|                 5|                    12|                       5|               0|              22|           0|          0|         NaN|           0|          NaN|                  7|               42|               36|             1|            0|            0|                      0|            0|          12|            1|      0.04|      0.03|       0.05|         0.06|         0.00|     0.00|   50.00|    Lateral-esquerdo|\n",
            "|   10|    Gustavo Henrique|                13.0|                  br BRA|                     CB|                  31-021|     71|               32|               1|                11|                    21|                       0|               0|              32|           0|          0|         NaN|           0|          NaN|                  9|               27|               19|             0|            0|            0|                      1|            0|          14|            0|      0.05|      0.02|       0.03|         0.00|         0.05|     0.00|   78.89|       Defesa-centro|\n",
            "|   12|Félix Torres Caicedo|                 3.0|                  ec ECU|                     CB|                  27-094|     90|               50|               3|                16|                    32|                       3|               1|              50|           1|          1|      1000.0|           0|          0.0|                 14|               72|               51|             1|            0|            0|                      0|            0|          28|            0|      0.07|      0.06|       0.08|         0.06|         0.00|     0.00|  100.00|     Defesa-esquerda|\n",
            "+-----+--------------------+--------------------+------------------------+-----------------------+------------------------+-------+-----------------+----------------+------------------+----------------------+------------------------+----------------+----------------+------------+-----------+------------+------------+-------------+-------------------+-----------------+-----------------+--------------+-------------+-------------+-----------------------+-------------+------------+-------------+----------+----------+-----------+-------------+-------------+---------+--------+--------------------+\n",
            "\n"
          ]
        }
      ]
    },
    {
      "cell_type": "code",
      "source": [
        "df_estatisticas.columns"
      ],
      "metadata": {
        "colab": {
          "base_uri": "https://localhost:8080/"
        },
        "id": "8IjcQg4NgcbI",
        "outputId": "a7605467-91f6-46a0-d1f6-2d93706ec66e"
      },
      "execution_count": 25,
      "outputs": [
        {
          "output_type": "execute_result",
          "data": {
            "text/plain": [
              "['index',\n",
              " 'Jogador',\n",
              " 'Unnamed:_1_level_0_#',\n",
              " 'Unnamed:_2_level_0_Nação',\n",
              " 'Unnamed:_3_level_0_Pos.',\n",
              " 'Unnamed:_4_level_0_Idade',\n",
              " 'Minutos',\n",
              " 'Contatos_Contatos',\n",
              " 'Contatos_Def_Pen',\n",
              " 'Contatos_Terço_Def',\n",
              " 'Contatos_Terço_Central',\n",
              " 'Contatos_Terço_de_Ataque',\n",
              " 'Contatos_Att_Pen',\n",
              " 'Contatos_Em_jogo',\n",
              " 'Dribles_Tent',\n",
              " 'Dribles_Suc',\n",
              " 'Dribles_Suc%',\n",
              " 'Dribles_Tkld',\n",
              " 'Dribles_Tkld%',\n",
              " 'Conducoes_Conducoes',\n",
              " 'Conducoes_DistTot',\n",
              " 'Conducoes_DistPrg',\n",
              " 'Conducoes_Prgc',\n",
              " 'Conduções_1/3',\n",
              " 'Conduções_CPA',\n",
              " 'Conducoes_Perda_Dominio',\n",
              " 'Conducoes_Dis',\n",
              " 'Recepção_Rec',\n",
              " 'Recepção_PrgR',\n",
              " '%Conducoes',\n",
              " '%DistTotal',\n",
              " '%DistAtaque',\n",
              " '%ProjAtaque9m',\n",
              " '%PerdaDomínio',\n",
              " '%Desarmes',\n",
              " '%minutos',\n",
              " 'posicao']"
            ]
          },
          "metadata": {},
          "execution_count": 25
        }
      ]
    },
    {
      "cell_type": "code",
      "source": [
        "from pyspark.sql import functions as F\n",
        "\n",
        "df_estatisticas = df_estatisticas.withColumn('inicio_ataque_x', F.col(\"x\"))\n",
        "df_estatisticas = df_estatisticas.withColumn('inicio_ataque_y', F.col(\"y\"))\n",
        "df_estatisticas = df_estatisticas.withColumn('fim_ataque_y', F.col(\"y\") + (F.col('%DistAtaque') * 120) / 100)\n",
        "df_estatisticas = df_estatisticas.withColumn('fim_ataque_x', F.lit(40))"
      ],
      "metadata": {
        "colab": {
          "base_uri": "https://localhost:8080/",
          "height": 1000
        },
        "id": "w-QLdT9GiPQ-",
        "outputId": "c0da7ddc-ea16-4568-c9f5-841f32d7bbd7"
      },
      "execution_count": 26,
      "outputs": [
        {
          "output_type": "error",
          "ename": "AnalysisException",
          "evalue": "[UNRESOLVED_COLUMN.WITH_SUGGESTION] A column or function parameter with name `x` cannot be resolved. Did you mean one of the following? [`index`, `Jogador`, `Minutos`, `posicao`, `%minutos`].;\n'Project [index#0L, Jogador#333, Unnamed:_1_level_0_##2, Unnamed:_2_level_0_Nação#3, Unnamed:_3_level_0_Pos.#4, Unnamed:_4_level_0_Idade#5, Minutos#363L, Contatos_Contatos#7L, Contatos_Def_Pen#8L, Contatos_Terço_Def#9L, Contatos_Terço_Central#10L, Contatos_Terço_de_Ataque#11L, Contatos_Att_Pen#12L, Contatos_Em_jogo#13L, Dribles_Tent#14L, Dribles_Suc#15L, Dribles_Suc%#16, Dribles_Tkld#17L, Dribles_Tkld%#18, Conducoes_Conducoes#393L, Conducoes_DistTot#423L, Conducoes_DistPrg#453L, Conducoes_Prgc#483L, Conduções_1/3#23L, ... 14 more fields]\n+- Project [index#0L, Jogador#333, Unnamed:_1_level_0_##2, Unnamed:_2_level_0_Nação#3, Unnamed:_3_level_0_Pos.#4, Unnamed:_4_level_0_Idade#5, Minutos#363L, Contatos_Contatos#7L, Contatos_Def_Pen#8L, Contatos_Terço_Def#9L, Contatos_Terço_Central#10L, Contatos_Terço_de_Ataque#11L, Contatos_Att_Pen#12L, Contatos_Em_jogo#13L, Dribles_Tent#14L, Dribles_Suc#15L, Dribles_Suc%#16, Dribles_Tkld#17L, Dribles_Tkld%#18, Conducoes_Conducoes#393L, Conducoes_DistTot#423L, Conducoes_DistPrg#453L, Conducoes_Prgc#483L, Conduções_1/3#23L, ... 13 more fields]\n   +- Join Inner, (Jogador#333 = nome#181)\n      :- Project [index#0L, Jogador#333, Unnamed:_1_level_0_##2, Unnamed:_2_level_0_Nação#3, Unnamed:_3_level_0_Pos.#4, Unnamed:_4_level_0_Idade#5, Minutos#363L, Contatos_Contatos#7L, Contatos_Def_Pen#8L, Contatos_Terço_Def#9L, Contatos_Terço_Central#10L, Contatos_Terço_de_Ataque#11L, Contatos_Att_Pen#12L, Contatos_Em_jogo#13L, Dribles_Tent#14L, Dribles_Suc#15L, Dribles_Suc%#16, Dribles_Tkld#17L, Dribles_Tkld%#18, Conducoes_Conducoes#393L, Conducoes_DistTot#423L, Conducoes_DistPrg#453L, Conducoes_Prgc#483L, Conduções_1/3#23L, ... 12 more fields]\n      :  +- Project [index#0L, Jogador#333, Unnamed:_1_level_0_##2, Unnamed:_2_level_0_Nação#3, Unnamed:_3_level_0_Pos.#4, Unnamed:_4_level_0_Idade#5, Minutos#363L, Contatos_Contatos#7L, Contatos_Def_Pen#8L, Contatos_Terço_Def#9L, Contatos_Terço_Central#10L, Contatos_Terço_de_Ataque#11L, Contatos_Att_Pen#12L, Contatos_Em_jogo#13L, Dribles_Tent#14L, Dribles_Suc#15L, Dribles_Suc%#16, Dribles_Tkld#17L, Dribles_Tkld%#18, Conducoes_Conducoes#393L, Conducoes_DistTot#423L, Conducoes_DistPrg#453L, Conducoes_Prgc#483L, Conduções_1/3#23L, ... 11 more fields]\n      :     +- Project [index#0L, Jogador#333, Unnamed:_1_level_0_##2, Unnamed:_2_level_0_Nação#3, Unnamed:_3_level_0_Pos.#4, Unnamed:_4_level_0_Idade#5, Minutos#363L, Contatos_Contatos#7L, Contatos_Def_Pen#8L, Contatos_Terço_Def#9L, Contatos_Terço_Central#10L, Contatos_Terço_de_Ataque#11L, Contatos_Att_Pen#12L, Contatos_Em_jogo#13L, Dribles_Tent#14L, Dribles_Suc#15L, Dribles_Suc%#16, Dribles_Tkld#17L, Dribles_Tkld%#18, Conducoes_Conducoes#393L, Conducoes_DistTot#423L, Conducoes_DistPrg#453L, Conducoes_Prgc#483L, Conduções_1/3#23L, ... 12 more fields]\n      :        +- Window [sum(Conducoes_Dis#543L) windowspecdefinition(specifiedwindowframe(RowFrame, unboundedpreceding$(), unboundedfollowing$())) AS _we0#750L]\n      :           +- Project [index#0L, Jogador#333, Unnamed:_1_level_0_##2, Unnamed:_2_level_0_Nação#3, Unnamed:_3_level_0_Pos.#4, Unnamed:_4_level_0_Idade#5, Minutos#363L, Contatos_Contatos#7L, Contatos_Def_Pen#8L, Contatos_Terço_Def#9L, Contatos_Terço_Central#10L, Contatos_Terço_de_Ataque#11L, Contatos_Att_Pen#12L, Contatos_Em_jogo#13L, Dribles_Tent#14L, Dribles_Suc#15L, Dribles_Suc%#16, Dribles_Tkld#17L, Dribles_Tkld%#18, Conducoes_Conducoes#393L, Conducoes_DistTot#423L, Conducoes_DistPrg#453L, Conducoes_Prgc#483L, Conduções_1/3#23L, ... 10 more fields]\n      :              +- Project [index#0L, Jogador#333, Unnamed:_1_level_0_##2, Unnamed:_2_level_0_Nação#3, Unnamed:_3_level_0_Pos.#4, Unnamed:_4_level_0_Idade#5, Minutos#363L, Contatos_Contatos#7L, Contatos_Def_Pen#8L, Contatos_Terço_Def#9L, Contatos_Terço_Central#10L, Contatos_Terço_de_Ataque#11L, Contatos_Att_Pen#12L, Contatos_Em_jogo#13L, Dribles_Tent#14L, Dribles_Suc#15L, Dribles_Suc%#16, Dribles_Tkld#17L, Dribles_Tkld%#18, Conducoes_Conducoes#393L, Conducoes_DistTot#423L, Conducoes_DistPrg#453L, Conducoes_Prgc#483L, Conduções_1/3#23L, ... 10 more fields]\n      :                 +- Project [index#0L, Jogador#333, Unnamed:_1_level_0_##2, Unnamed:_2_level_0_Nação#3, Unnamed:_3_level_0_Pos.#4, Unnamed:_4_level_0_Idade#5, Minutos#363L, Contatos_Contatos#7L, Contatos_Def_Pen#8L, Contatos_Terço_Def#9L, Contatos_Terço_Central#10L, Contatos_Terço_de_Ataque#11L, Contatos_Att_Pen#12L, Contatos_Em_jogo#13L, Dribles_Tent#14L, Dribles_Suc#15L, Dribles_Suc%#16, Dribles_Tkld#17L, Dribles_Tkld%#18, Conducoes_Conducoes#393L, Conducoes_DistTot#423L, Conducoes_DistPrg#453L, Conducoes_Prgc#483L, Conduções_1/3#23L, ... 11 more fields]\n      :                    +- Window [sum(Conducoes_Perda_Dominio#513L) windowspecdefinition(specifiedwindowframe(RowFrame, unboundedpreceding$(), unboundedfollowing$())) AS _we0#713L]\n      :                       +- Project [index#0L, Jogador#333, Unnamed:_1_level_0_##2, Unnamed:_2_level_0_Nação#3, Unnamed:_3_level_0_Pos.#4, Unnamed:_4_level_0_Idade#5, Minutos#363L, Contatos_Contatos#7L, Contatos_Def_Pen#8L, Contatos_Terço_Def#9L, Contatos_Terço_Central#10L, Contatos_Terço_de_Ataque#11L, Contatos_Att_Pen#12L, Contatos_Em_jogo#13L, Dribles_Tent#14L, Dribles_Suc#15L, Dribles_Suc%#16, Dribles_Tkld#17L, Dribles_Tkld%#18, Conducoes_Conducoes#393L, Conducoes_DistTot#423L, Conducoes_DistPrg#453L, Conducoes_Prgc#483L, Conduções_1/3#23L, ... 9 more fields]\n      :                          +- Project [index#0L, Jogador#333, Unnamed:_1_level_0_##2, Unnamed:_2_level_0_Nação#3, Unnamed:_3_level_0_Pos.#4, Unnamed:_4_level_0_Idade#5, Minutos#363L, Contatos_Contatos#7L, Contatos_Def_Pen#8L, Contatos_Terço_Def#9L, Contatos_Terço_Central#10L, Contatos_Terço_de_Ataque#11L, Contatos_Att_Pen#12L, Contatos_Em_jogo#13L, Dribles_Tent#14L, Dribles_Suc#15L, Dribles_Suc%#16, Dribles_Tkld#17L, Dribles_Tkld%#18, Conducoes_Conducoes#393L, Conducoes_DistTot#423L, Conducoes_DistPrg#453L, Conducoes_Prgc#483L, Conduções_1/3#23L, ... 9 more fields]\n      :                             +- Project [index#0L, Jogador#333, Unnamed:_1_level_0_##2, Unnamed:_2_level_0_Nação#3, Unnamed:_3_level_0_Pos.#4, Unnamed:_4_level_0_Idade#5, Minutos#363L, Contatos_Contatos#7L, Contatos_Def_Pen#8L, Contatos_Terço_Def#9L, Contatos_Terço_Central#10L, Contatos_Terço_de_Ataque#11L, Contatos_Att_Pen#12L, Contatos_Em_jogo#13L, Dribles_Tent#14L, Dribles_Suc#15L, Dribles_Suc%#16, Dribles_Tkld#17L, Dribles_Tkld%#18, Conducoes_Conducoes#393L, Conducoes_DistTot#423L, Conducoes_DistPrg#453L, Conducoes_Prgc#483L, Conduções_1/3#23L, ... 10 more fields]\n      :                                +- Window [sum(Conducoes_Prgc#483L) windowspecdefinition(specifiedwindowframe(RowFrame, unboundedpreceding$(), unboundedfollowing$())) AS _we0#677L]\n      :                                   +- Project [index#0L, Jogador#333, Unnamed:_1_level_0_##2, Unnamed:_2_level_0_Nação#3, Unnamed:_3_level_0_Pos.#4, Unnamed:_4_level_0_Idade#5, Minutos#363L, Contatos_Contatos#7L, Contatos_Def_Pen#8L, Contatos_Terço_Def#9L, Contatos_Terço_Central#10L, Contatos_Terço_de_Ataque#11L, Contatos_Att_Pen#12L, Contatos_Em_jogo#13L, Dribles_Tent#14L, Dribles_Suc#15L, Dribles_Suc%#16, Dribles_Tkld#17L, Dribles_Tkld%#18, Conducoes_Conducoes#393L, Conducoes_DistTot#423L, Conducoes_DistPrg#453L, Conducoes_Prgc#483L, Conduções_1/3#23L, ... 8 more fields]\n      :                                      +- Project [index#0L, Jogador#333, Unnamed:_1_level_0_##2, Unnamed:_2_level_0_Nação#3, Unnamed:_3_level_0_Pos.#4, Unnamed:_4_level_0_Idade#5, Minutos#363L, Contatos_Contatos#7L, Contatos_Def_Pen#8L, Contatos_Terço_Def#9L, Contatos_Terço_Central#10L, Contatos_Terço_de_Ataque#11L, Contatos_Att_Pen#12L, Contatos_Em_jogo#13L, Dribles_Tent#14L, Dribles_Suc#15L, Dribles_Suc%#16, Dribles_Tkld#17L, Dribles_Tkld%#18, Conducoes_Conducoes#393L, Conducoes_DistTot#423L, Conducoes_DistPrg#453L, Conducoes_Prgc#483L, Conduções_1/3#23L, ... 8 more fields]\n      :                                         +- Project [index#0L, Jogador#333, Unnamed:_1_level_0_##2, Unnamed:_2_level_0_Nação#3, Unnamed:_3_level_0_Pos.#4, Unnamed:_4_level_0_Idade#5, Minutos#363L, Contatos_Contatos#7L, Contatos_Def_Pen#8L, Contatos_Terço_Def#9L, Contatos_Terço_Central#10L, Contatos_Terço_de_Ataque#11L, Contatos_Att_Pen#12L, Contatos_Em_jogo#13L, Dribles_Tent#14L, Dribles_Suc#15L, Dribles_Suc%#16, Dribles_Tkld#17L, Dribles_Tkld%#18, Conducoes_Conducoes#393L, Conducoes_DistTot#423L, Conducoes_DistPrg#453L, Conducoes_Prgc#483L, Conduções_1/3#23L, ... 9 more fields]\n      :                                            +- Window [sum(Conducoes_DistPrg#453L) windowspecdefinition(specifiedwindowframe(RowFrame, unboundedpreceding$(), unboundedfollowing$())) AS _we0#642L]\n      :                                               +- Project [index#0L, Jogador#333, Unnamed:_1_level_0_##2, Unnamed:_2_level_0_Nação#3, Unnamed:_3_level_0_Pos.#4, Unnamed:_4_level_0_Idade#5, Minutos#363L, Contatos_Contatos#7L, Contatos_Def_Pen#8L, Contatos_Terço_Def#9L, Contatos_Terço_Central#10L, Contatos_Terço_de_Ataque#11L, Contatos_Att_Pen#12L, Contatos_Em_jogo#13L, Dribles_Tent#14L, Dribles_Suc#15L, Dribles_Suc%#16, Dribles_Tkld#17L, Dribles_Tkld%#18, Conducoes_Conducoes#393L, Conducoes_DistTot#423L, Conducoes_DistPrg#453L, Conducoes_Prgc#483L, Conduções_1/3#23L, ... 7 more fields]\n      :                                                  +- Project [index#0L, Jogador#333, Unnamed:_1_level_0_##2, Unnamed:_2_level_0_Nação#3, Unnamed:_3_level_0_Pos.#4, Unnamed:_4_level_0_Idade#5, Minutos#363L, Contatos_Contatos#7L, Contatos_Def_Pen#8L, Contatos_Terço_Def#9L, Contatos_Terço_Central#10L, Contatos_Terço_de_Ataque#11L, Contatos_Att_Pen#12L, Contatos_Em_jogo#13L, Dribles_Tent#14L, Dribles_Suc#15L, Dribles_Suc%#16, Dribles_Tkld#17L, Dribles_Tkld%#18, Conducoes_Conducoes#393L, Conducoes_DistTot#423L, Conducoes_DistPrg#453L, Conducoes_Prgc#483L, Conduções_1/3#23L, ... 7 more fields]\n      :                                                     +- Project [index#0L, Jogador#333, Unnamed:_1_level_0_##2, Unnamed:_2_level_0_Nação#3, Unnamed:_3_level_0_Pos.#4, Unnamed:_4_level_0_Idade#5, Minutos#363L, Contatos_Contatos#7L, Contatos_Def_Pen#8L, Contatos_Terço_Def#9L, Contatos_Terço_Central#10L, Contatos_Terço_de_Ataque#11L, Contatos_Att_Pen#12L, Contatos_Em_jogo#13L, Dribles_Tent#14L, Dribles_Suc#15L, Dribles_Suc%#16, Dribles_Tkld#17L, Dribles_Tkld%#18, Conducoes_Conducoes#393L, Conducoes_DistTot#423L, Conducoes_DistPrg#453L, Conducoes_Prgc#483L, Conduções_1/3#23L, ... 8 more fields]\n      :                                                        +- Window [sum(Conducoes_DistTot#423L) windowspecdefinition(specifiedwindowframe(RowFrame, unboundedpreceding$(), unboundedfollowing$())) AS _we0#608L]\n      :                                                           +- Project [index#0L, Jogador#333, Unnamed:_1_level_0_##2, Unnamed:_2_level_0_Nação#3, Unnamed:_3_level_0_Pos.#4, Unnamed:_4_level_0_Idade#5, Minutos#363L, Contatos_Contatos#7L, Contatos_Def_Pen#8L, Contatos_Terço_Def#9L, Contatos_Terço_Central#10L, Contatos_Terço_de_Ataque#11L, Contatos_Att_Pen#12L, Contatos_Em_jogo#13L, Dribles_Tent#14L, Dribles_Suc#15L, Dribles_Suc%#16, Dribles_Tkld#17L, Dribles_Tkld%#18, Conducoes_Conducoes#393L, Conducoes_DistTot#423L, Conducoes_DistPrg#453L, Conducoes_Prgc#483L, Conduções_1/3#23L, ... 6 more fields]\n      :                                                              +- Project [index#0L, Jogador#333, Unnamed:_1_level_0_##2, Unnamed:_2_level_0_Nação#3, Unnamed:_3_level_0_Pos.#4, Unnamed:_4_level_0_Idade#5, Minutos#363L, Contatos_Contatos#7L, Contatos_Def_Pen#8L, Contatos_Terço_Def#9L, Contatos_Terço_Central#10L, Contatos_Terço_de_Ataque#11L, Contatos_Att_Pen#12L, Contatos_Em_jogo#13L, Dribles_Tent#14L, Dribles_Suc#15L, Dribles_Suc%#16, Dribles_Tkld#17L, Dribles_Tkld%#18, Conducoes_Conducoes#393L, Conducoes_DistTot#423L, Conducoes_DistPrg#453L, Conducoes_Prgc#483L, Conduções_1/3#23L, ... 6 more fields]\n      :                                                                 +- Project [index#0L, Jogador#333, Unnamed:_1_level_0_##2, Unnamed:_2_level_0_Nação#3, Unnamed:_3_level_0_Pos.#4, Unnamed:_4_level_0_Idade#5, Minutos#363L, Contatos_Contatos#7L, Contatos_Def_Pen#8L, Contatos_Terço_Def#9L, Contatos_Terço_Central#10L, Contatos_Terço_de_Ataque#11L, Contatos_Att_Pen#12L, Contatos_Em_jogo#13L, Dribles_Tent#14L, Dribles_Suc#15L, Dribles_Suc%#16, Dribles_Tkld#17L, Dribles_Tkld%#18, Conducoes_Conducoes#393L, Conducoes_DistTot#423L, Conducoes_DistPrg#453L, Conducoes_Prgc#483L, Conduções_1/3#23L, ... 7 more fields]\n      :                                                                    +- Window [sum(Conducoes_Conducoes#393L) windowspecdefinition(specifiedwindowframe(RowFrame, unboundedpreceding$(), unboundedfollowing$())) AS _we0#575L]\n      :                                                                       +- Project [index#0L, Jogador#333, Unnamed:_1_level_0_##2, Unnamed:_2_level_0_Nação#3, Unnamed:_3_level_0_Pos.#4, Unnamed:_4_level_0_Idade#5, Minutos#363L, Contatos_Contatos#7L, Contatos_Def_Pen#8L, Contatos_Terço_Def#9L, Contatos_Terço_Central#10L, Contatos_Terço_de_Ataque#11L, Contatos_Att_Pen#12L, Contatos_Em_jogo#13L, Dribles_Tent#14L, Dribles_Suc#15L, Dribles_Suc%#16, Dribles_Tkld#17L, Dribles_Tkld%#18, Conducoes_Conducoes#393L, Conducoes_DistTot#423L, Conducoes_DistPrg#453L, Conducoes_Prgc#483L, Conduções_1/3#23L, ... 5 more fields]\n      :                                                                          +- Project [index#0L, Jogador#333, Unnamed:_1_level_0_##2, Unnamed:_2_level_0_Nação#3, Unnamed:_3_level_0_Pos.#4, Unnamed:_4_level_0_Idade#5, Minutos#363L, Contatos_Contatos#7L, Contatos_Def_Pen#8L, Contatos_Terço_Def#9L, Contatos_Terço_Central#10L, Contatos_Terço_de_Ataque#11L, Contatos_Att_Pen#12L, Contatos_Em_jogo#13L, Dribles_Tent#14L, Dribles_Suc#15L, Dribles_Suc%#16, Dribles_Tkld#17L, Dribles_Tkld%#18, Conducoes_Conducoes#393L, Conducoes_DistTot#423L, Conducoes_DistPrg#453L, Conducoes_Prgc#483L, Conduções_1/3#23L, ... 5 more fields]\n      :                                                                             +- Project [index#0L, Jogador#333, Unnamed:_1_level_0_##2, Unnamed:_2_level_0_Nação#3, Unnamed:_3_level_0_Pos.#4, Unnamed:_4_level_0_Idade#5, Minutos#363L, Contatos_Contatos#7L, Contatos_Def_Pen#8L, Contatos_Terço_Def#9L, Contatos_Terço_Central#10L, Contatos_Terço_de_Ataque#11L, Contatos_Att_Pen#12L, Contatos_Em_jogo#13L, Dribles_Tent#14L, Dribles_Suc#15L, Dribles_Suc%#16, Dribles_Tkld#17L, Dribles_Tkld%#18, Conducoes_Conducoes#393L, Conducoes_DistTot#423L, Conducoes_DistPrg#453L, Conducoes_Prgc#483L, Conduções_1/3#23L, ... 5 more fields]\n      :                                                                                +- Project [index#0L, Jogador#333, Unnamed:_1_level_0_##2, Unnamed:_2_level_0_Nação#3, Unnamed:_3_level_0_Pos.#4, Unnamed:_4_level_0_Idade#5, Minutos#363L, Contatos_Contatos#7L, Contatos_Def_Pen#8L, Contatos_Terço_Def#9L, Contatos_Terço_Central#10L, Contatos_Terço_de_Ataque#11L, Contatos_Att_Pen#12L, Contatos_Em_jogo#13L, Dribles_Tent#14L, Dribles_Suc#15L, Dribles_Suc%#16, Dribles_Tkld#17L, Dribles_Tkld%#18, Conducoes_Conducoes#393L, Conducoes_DistTot#423L, Conducoes_DistPrg#453L, Conduções_PrgC#22L AS Conducoes_Prgc#483L, Conduções_1/3#23L, ... 5 more fields]\n      :                                                                                   +- Project [index#0L, Jogador#333, Unnamed:_1_level_0_##2, Unnamed:_2_level_0_Nação#3, Unnamed:_3_level_0_Pos.#4, Unnamed:_4_level_0_Idade#5, Minutos#363L, Contatos_Contatos#7L, Contatos_Def_Pen#8L, Contatos_Terço_Def#9L, Contatos_Terço_Central#10L, Contatos_Terço_de_Ataque#11L, Contatos_Att_Pen#12L, Contatos_Em_jogo#13L, Dribles_Tent#14L, Dribles_Suc#15L, Dribles_Suc%#16, Dribles_Tkld#17L, Dribles_Tkld%#18, Conducoes_Conducoes#393L, Conducoes_DistTot#423L, Conduções_DistPrg#21L AS Conducoes_DistPrg#453L, Conduções_PrgC#22L, Conduções_1/3#23L, ... 5 more fields]\n      :                                                                                      +- Project [index#0L, Jogador#333, Unnamed:_1_level_0_##2, Unnamed:_2_level_0_Nação#3, Unnamed:_3_level_0_Pos.#4, Unnamed:_4_level_0_Idade#5, Minutos#363L, Contatos_Contatos#7L, Contatos_Def_Pen#8L, Contatos_Terço_Def#9L, Contatos_Terço_Central#10L, Contatos_Terço_de_Ataque#11L, Contatos_Att_Pen#12L, Contatos_Em_jogo#13L, Dribles_Tent#14L, Dribles_Suc#15L, Dribles_Suc%#16, Dribles_Tkld#17L, Dribles_Tkld%#18, Conducoes_Conducoes#393L, Conduções_DistTot#20L AS Conducoes_DistTot#423L, Conduções_DistPrg#21L, Conduções_PrgC#22L, Conduções_1/3#23L, ... 5 more fields]\n      :                                                                                         +- Project [index#0L, Jogador#333, Unnamed:_1_level_0_##2, Unnamed:_2_level_0_Nação#3, Unnamed:_3_level_0_Pos.#4, Unnamed:_4_level_0_Idade#5, Minutos#363L, Contatos_Contatos#7L, Contatos_Def_Pen#8L, Contatos_Terço_Def#9L, Contatos_Terço_Central#10L, Contatos_Terço_de_Ataque#11L, Contatos_Att_Pen#12L, Contatos_Em_jogo#13L, Dribles_Tent#14L, Dribles_Suc#15L, Dribles_Suc%#16, Dribles_Tkld#17L, Dribles_Tkld%#18, Conduções_Conduções#19L AS Conducoes_Conducoes#393L, Conduções_DistTot#20L, Conduções_DistPrg#21L, Conduções_PrgC#22L, Conduções_1/3#23L, ... 5 more fields]\n      :                                                                                            +- Project [index#0L, Jogador#333, Unnamed:_1_level_0_##2, Unnamed:_2_level_0_Nação#3, Unnamed:_3_level_0_Pos.#4, Unnamed:_4_level_0_Idade#5, Unnamed:_5_level_0_Min.#6L AS Minutos#363L, Contatos_Contatos#7L, Contatos_Def_Pen#8L, Contatos_Terço_Def#9L, Contatos_Terço_Central#10L, Contatos_Terço_de_Ataque#11L, Contatos_Att_Pen#12L, Contatos_Em_jogo#13L, Dribles_Tent#14L, Dribles_Suc#15L, Dribles_Suc%#16, Dribles_Tkld#17L, Dribles_Tkld%#18, Conduções_Conduções#19L, Conduções_DistTot#20L, Conduções_DistPrg#21L, Conduções_PrgC#22L, Conduções_1/3#23L, ... 5 more fields]\n      :                                                                                               +- Project [index#0L, Unnamed:_0_level_0_Jogador#1 AS Jogador#333, Unnamed:_1_level_0_##2, Unnamed:_2_level_0_Nação#3, Unnamed:_3_level_0_Pos.#4, Unnamed:_4_level_0_Idade#5, Unnamed:_5_level_0_Min.#6L, Contatos_Contatos#7L, Contatos_Def_Pen#8L, Contatos_Terço_Def#9L, Contatos_Terço_Central#10L, Contatos_Terço_de_Ataque#11L, Contatos_Att_Pen#12L, Contatos_Em_jogo#13L, Dribles_Tent#14L, Dribles_Suc#15L, Dribles_Suc%#16, Dribles_Tkld#17L, Dribles_Tkld%#18, Conduções_Conduções#19L, Conduções_DistTot#20L, Conduções_DistPrg#21L, Conduções_PrgC#22L, Conduções_1/3#23L, ... 5 more fields]\n      :                                                                                                  +- Filter NOT (index#0L = cast(16 as bigint))\n      :                                                                                                     +- LogicalRDD [index#0L, Unnamed:_0_level_0_Jogador#1, Unnamed:_1_level_0_##2, Unnamed:_2_level_0_Nação#3, Unnamed:_3_level_0_Pos.#4, Unnamed:_4_level_0_Idade#5, Unnamed:_5_level_0_Min.#6L, Contatos_Contatos#7L, Contatos_Def_Pen#8L, Contatos_Terço_Def#9L, Contatos_Terço_Central#10L, Contatos_Terço_de_Ataque#11L, Contatos_Att_Pen#12L, Contatos_Em_jogo#13L, Dribles_Tent#14L, Dribles_Suc#15L, Dribles_Suc%#16, Dribles_Tkld#17L, Dribles_Tkld%#18, Conduções_Conduções#19L, Conduções_DistTot#20L, Conduções_DistPrg#21L, Conduções_PrgC#22L, Conduções_1/3#23L, ... 5 more fields], false\n      +- LogicalRDD [nome#181, posicao#182], false\n",
          "traceback": [
            "\u001b[0;31m---------------------------------------------------------------------------\u001b[0m",
            "\u001b[0;31mAnalysisException\u001b[0m                         Traceback (most recent call last)",
            "\u001b[0;32m<ipython-input-26-8a070bef7e04>\u001b[0m in \u001b[0;36m<cell line: 3>\u001b[0;34m()\u001b[0m\n\u001b[1;32m      1\u001b[0m \u001b[0;32mfrom\u001b[0m \u001b[0mpyspark\u001b[0m\u001b[0;34m.\u001b[0m\u001b[0msql\u001b[0m \u001b[0;32mimport\u001b[0m \u001b[0mfunctions\u001b[0m \u001b[0;32mas\u001b[0m \u001b[0mF\u001b[0m\u001b[0;34m\u001b[0m\u001b[0;34m\u001b[0m\u001b[0m\n\u001b[1;32m      2\u001b[0m \u001b[0;34m\u001b[0m\u001b[0m\n\u001b[0;32m----> 3\u001b[0;31m \u001b[0mdf_estatisticas\u001b[0m \u001b[0;34m=\u001b[0m \u001b[0mdf_estatisticas\u001b[0m\u001b[0;34m.\u001b[0m\u001b[0mwithColumn\u001b[0m\u001b[0;34m(\u001b[0m\u001b[0;34m'inicio_ataque_x'\u001b[0m\u001b[0;34m,\u001b[0m \u001b[0mF\u001b[0m\u001b[0;34m.\u001b[0m\u001b[0mcol\u001b[0m\u001b[0;34m(\u001b[0m\u001b[0;34m\"x\"\u001b[0m\u001b[0;34m)\u001b[0m\u001b[0;34m)\u001b[0m\u001b[0;34m\u001b[0m\u001b[0;34m\u001b[0m\u001b[0m\n\u001b[0m\u001b[1;32m      4\u001b[0m \u001b[0mdf_estatisticas\u001b[0m \u001b[0;34m=\u001b[0m \u001b[0mdf_estatisticas\u001b[0m\u001b[0;34m.\u001b[0m\u001b[0mwithColumn\u001b[0m\u001b[0;34m(\u001b[0m\u001b[0;34m'inicio_ataque_y'\u001b[0m\u001b[0;34m,\u001b[0m \u001b[0mF\u001b[0m\u001b[0;34m.\u001b[0m\u001b[0mcol\u001b[0m\u001b[0;34m(\u001b[0m\u001b[0;34m\"y\"\u001b[0m\u001b[0;34m)\u001b[0m\u001b[0;34m)\u001b[0m\u001b[0;34m\u001b[0m\u001b[0;34m\u001b[0m\u001b[0m\n\u001b[1;32m      5\u001b[0m \u001b[0mdf_estatisticas\u001b[0m \u001b[0;34m=\u001b[0m \u001b[0mdf_estatisticas\u001b[0m\u001b[0;34m.\u001b[0m\u001b[0mwithColumn\u001b[0m\u001b[0;34m(\u001b[0m\u001b[0;34m'fim_ataque_y'\u001b[0m\u001b[0;34m,\u001b[0m \u001b[0mF\u001b[0m\u001b[0;34m.\u001b[0m\u001b[0mcol\u001b[0m\u001b[0;34m(\u001b[0m\u001b[0;34m\"y\"\u001b[0m\u001b[0;34m)\u001b[0m \u001b[0;34m+\u001b[0m \u001b[0;34m(\u001b[0m\u001b[0mF\u001b[0m\u001b[0;34m.\u001b[0m\u001b[0mcol\u001b[0m\u001b[0;34m(\u001b[0m\u001b[0;34m'%DistAtaque'\u001b[0m\u001b[0;34m)\u001b[0m \u001b[0;34m*\u001b[0m \u001b[0;36m120\u001b[0m\u001b[0;34m)\u001b[0m \u001b[0;34m/\u001b[0m \u001b[0;36m100\u001b[0m\u001b[0;34m)\u001b[0m\u001b[0;34m\u001b[0m\u001b[0;34m\u001b[0m\u001b[0m\n",
            "\u001b[0;32m/usr/local/lib/python3.10/dist-packages/pyspark/sql/dataframe.py\u001b[0m in \u001b[0;36mwithColumn\u001b[0;34m(self, colName, col)\u001b[0m\n\u001b[1;32m   5174\u001b[0m                 \u001b[0mmessage_parameters\u001b[0m\u001b[0;34m=\u001b[0m\u001b[0;34m{\u001b[0m\u001b[0;34m\"arg_name\"\u001b[0m\u001b[0;34m:\u001b[0m \u001b[0;34m\"col\"\u001b[0m\u001b[0;34m,\u001b[0m \u001b[0;34m\"arg_type\"\u001b[0m\u001b[0;34m:\u001b[0m \u001b[0mtype\u001b[0m\u001b[0;34m(\u001b[0m\u001b[0mcol\u001b[0m\u001b[0;34m)\u001b[0m\u001b[0;34m.\u001b[0m\u001b[0m__name__\u001b[0m\u001b[0;34m}\u001b[0m\u001b[0;34m,\u001b[0m\u001b[0;34m\u001b[0m\u001b[0;34m\u001b[0m\u001b[0m\n\u001b[1;32m   5175\u001b[0m             )\n\u001b[0;32m-> 5176\u001b[0;31m         \u001b[0;32mreturn\u001b[0m \u001b[0mDataFrame\u001b[0m\u001b[0;34m(\u001b[0m\u001b[0mself\u001b[0m\u001b[0;34m.\u001b[0m\u001b[0m_jdf\u001b[0m\u001b[0;34m.\u001b[0m\u001b[0mwithColumn\u001b[0m\u001b[0;34m(\u001b[0m\u001b[0mcolName\u001b[0m\u001b[0;34m,\u001b[0m \u001b[0mcol\u001b[0m\u001b[0;34m.\u001b[0m\u001b[0m_jc\u001b[0m\u001b[0;34m)\u001b[0m\u001b[0;34m,\u001b[0m \u001b[0mself\u001b[0m\u001b[0;34m.\u001b[0m\u001b[0msparkSession\u001b[0m\u001b[0;34m)\u001b[0m\u001b[0;34m\u001b[0m\u001b[0;34m\u001b[0m\u001b[0m\n\u001b[0m\u001b[1;32m   5177\u001b[0m \u001b[0;34m\u001b[0m\u001b[0m\n\u001b[1;32m   5178\u001b[0m     \u001b[0;32mdef\u001b[0m \u001b[0mwithColumnRenamed\u001b[0m\u001b[0;34m(\u001b[0m\u001b[0mself\u001b[0m\u001b[0;34m,\u001b[0m \u001b[0mexisting\u001b[0m\u001b[0;34m:\u001b[0m \u001b[0mstr\u001b[0m\u001b[0;34m,\u001b[0m \u001b[0mnew\u001b[0m\u001b[0;34m:\u001b[0m \u001b[0mstr\u001b[0m\u001b[0;34m)\u001b[0m \u001b[0;34m->\u001b[0m \u001b[0;34m\"DataFrame\"\u001b[0m\u001b[0;34m:\u001b[0m\u001b[0;34m\u001b[0m\u001b[0;34m\u001b[0m\u001b[0m\n",
            "\u001b[0;32m/usr/local/lib/python3.10/dist-packages/py4j/java_gateway.py\u001b[0m in \u001b[0;36m__call__\u001b[0;34m(self, *args)\u001b[0m\n\u001b[1;32m   1320\u001b[0m \u001b[0;34m\u001b[0m\u001b[0m\n\u001b[1;32m   1321\u001b[0m         \u001b[0manswer\u001b[0m \u001b[0;34m=\u001b[0m \u001b[0mself\u001b[0m\u001b[0;34m.\u001b[0m\u001b[0mgateway_client\u001b[0m\u001b[0;34m.\u001b[0m\u001b[0msend_command\u001b[0m\u001b[0;34m(\u001b[0m\u001b[0mcommand\u001b[0m\u001b[0;34m)\u001b[0m\u001b[0;34m\u001b[0m\u001b[0;34m\u001b[0m\u001b[0m\n\u001b[0;32m-> 1322\u001b[0;31m         return_value = get_return_value(\n\u001b[0m\u001b[1;32m   1323\u001b[0m             answer, self.gateway_client, self.target_id, self.name)\n\u001b[1;32m   1324\u001b[0m \u001b[0;34m\u001b[0m\u001b[0m\n",
            "\u001b[0;32m/usr/local/lib/python3.10/dist-packages/pyspark/errors/exceptions/captured.py\u001b[0m in \u001b[0;36mdeco\u001b[0;34m(*a, **kw)\u001b[0m\n\u001b[1;32m    183\u001b[0m                 \u001b[0;31m# Hide where the exception came from that shows a non-Pythonic\u001b[0m\u001b[0;34m\u001b[0m\u001b[0;34m\u001b[0m\u001b[0m\n\u001b[1;32m    184\u001b[0m                 \u001b[0;31m# JVM exception message.\u001b[0m\u001b[0;34m\u001b[0m\u001b[0;34m\u001b[0m\u001b[0m\n\u001b[0;32m--> 185\u001b[0;31m                 \u001b[0;32mraise\u001b[0m \u001b[0mconverted\u001b[0m \u001b[0;32mfrom\u001b[0m \u001b[0;32mNone\u001b[0m\u001b[0;34m\u001b[0m\u001b[0;34m\u001b[0m\u001b[0m\n\u001b[0m\u001b[1;32m    186\u001b[0m             \u001b[0;32melse\u001b[0m\u001b[0;34m:\u001b[0m\u001b[0;34m\u001b[0m\u001b[0;34m\u001b[0m\u001b[0m\n\u001b[1;32m    187\u001b[0m                 \u001b[0;32mraise\u001b[0m\u001b[0;34m\u001b[0m\u001b[0;34m\u001b[0m\u001b[0m\n",
            "\u001b[0;31mAnalysisException\u001b[0m: [UNRESOLVED_COLUMN.WITH_SUGGESTION] A column or function parameter with name `x` cannot be resolved. Did you mean one of the following? [`index`, `Jogador`, `Minutos`, `posicao`, `%minutos`].;\n'Project [index#0L, Jogador#333, Unnamed:_1_level_0_##2, Unnamed:_2_level_0_Nação#3, Unnamed:_3_level_0_Pos.#4, Unnamed:_4_level_0_Idade#5, Minutos#363L, Contatos_Contatos#7L, Contatos_Def_Pen#8L, Contatos_Terço_Def#9L, Contatos_Terço_Central#10L, Contatos_Terço_de_Ataque#11L, Contatos_Att_Pen#12L, Contatos_Em_jogo#13L, Dribles_Tent#14L, Dribles_Suc#15L, Dribles_Suc%#16, Dribles_Tkld#17L, Dribles_Tkld%#18, Conducoes_Conducoes#393L, Conducoes_DistTot#423L, Conducoes_DistPrg#453L, Conducoes_Prgc#483L, Conduções_1/3#23L, ... 14 more fields]\n+- Project [index#0L, Jogador#333, Unnamed:_1_level_0_##2, Unnamed:_2_level_0_Nação#3, Unnamed:_3_level_0_Pos.#4, Unnamed:_4_level_0_Idade#5, Minutos#363L, Contatos_Contatos#7L, Contatos_Def_Pen#8L, Contatos_Terço_Def#9L, Contatos_Terço_Central#10L, Contatos_Terço_de_Ataque#11L, Contatos_Att_Pen#12L, Contatos_Em_jogo#13L, Dribles_Tent#14L, Dribles_Suc#15L, Dribles_Suc%#16, Dribles_Tkld#17L, Dribles_Tkld%#18, Conducoes_Conducoes#393L, Conducoes_DistTot#423L, Conducoes_DistPrg#453L, Conducoes_Prgc#483L, Conduções_1/3#23L, ... 13 more fields]\n   +- Join Inner, (Jogador#333 = nome#181)\n      :- Project [index#0L, Jogador#333, Unnamed:_1_level_0_##2, Unnamed:_2_level_0_Nação#3, Unnamed:_3_level_0_Pos.#4, Unnamed:_4_level_0_Idade#5, Minutos#363L, Contatos_Contatos#7L, Contatos_Def_Pen#8L, Contatos_Terço_Def#9L, Contatos_Terço_Central#10L, Contatos_Terço_de_Ataque#11L, Contatos_Att_Pen#12L, Contatos_Em_jogo#13L, Dribles_Tent#14L, Dribles_Suc#15L, Dribles_Suc%#16, Dribles_Tkld#17L, Dribles_Tkld%#18, Conducoes_Conducoes#393L, Conducoes_DistTot#423L, Conducoes_DistPrg#453L, Conducoes_Prgc#483L, Conduções_1/3#23L, ... 12 more fields]\n      :  +- Project [index#0L, Jogador#333, Unnamed:_1_level_0_##2, Unnamed:_2_level_0_Nação#3, Unnamed:_3_level_0_Pos.#4, Unnamed:_4_level_0_Idade#5, Minutos#363L, Contatos_Contatos#7L, Contatos_Def_Pen#8L, Contatos_Terço_Def#9L, Contatos_Terço_Central#10L, Contatos_Terço_de_Ataque#11L, Contatos_Att_Pen#12L, Contatos_Em_jogo#13L, Dribles_Tent#14L, Dribles_Suc#15L, Dribles_Suc%#16, Dribles_Tkld#17L, Dribles_Tkld%#18, Conducoes_Conducoes#393L, Conducoes_DistTot#423L, Conducoes_DistPrg#453L, Conducoes_Prgc#483L, Conduções_1/3#23L, ... 11 more fields]\n      :     +- Project [index#0L, Jogador#333, Unnamed:_1_level_0_##2, Unnamed:_2_level_0_Nação#3, Unnamed:_3_level_0_Pos.#4, Unnamed:_4_level_0_Idade#5, Minutos#363L, Contatos_Contatos#7L, Contatos_Def_Pen#8L, Contatos_Terço_Def#9L, Contatos_Terço_Central#10L, Contatos_Terço_de_Ataque#11L, Contatos_Att_Pen#12L, Contatos_Em_jogo#13L, Dribles_Tent#14L, Dribles_Suc#15L, Dribles_Suc%#16, Dribles_Tkld#17L, Dribles_Tkld%#18, Conducoes_Conducoes#393L, Conducoes_DistTot#423L, Conducoes_DistPrg#453L, Conducoes_Prgc#483L, Conduções_1/3#23L, ... 12 more fields]\n      :        +- Window [sum(Conducoes_Dis#543L) windowspecdefinition(specifiedwindowframe(RowFrame, unboundedpreceding$(), unboundedfollowing$())) AS _we0#750L]\n      :           +- Project [index#0L, Jogador#333, Unnamed:_1_level_0_##2, Unnamed:_2_level_0_Nação#3, Unnamed:_3_level_0_Pos.#4, Unnamed:_4_level_0_Idade#5, Minutos#363L, Contatos_Contatos#7L, Contatos_Def_Pen#8L, Contatos_Terço_Def#9L, Contatos_Terço_Central#10L, Contatos_Terço_de_Ataque#11L, Contatos_Att_Pen#12L, Contatos_Em_jogo#13L, Dribles_Tent#14L, Dribles_Suc#15L, Dribles_Suc%#16, Dribles_Tkld#17L, Dribles_Tkld%#18, Conducoes_Conducoes#393L, Conducoes_DistTot#423L, Conducoes_DistPrg#453L, Conducoes_Prgc#483L, Conduções_1/3#23L, ... 10 more fields]\n      :              +- Project [index#0L, Jogador#333, Unnamed:_1_level_0_##2, Unnamed:_2_level_0_Nação#3, Unnamed:_3_level_0_Pos.#4, Unnamed:_4_level_0_Idade#5, Minutos#363L, Contatos_Contatos#7L, Contatos_Def_Pen#8L, Contatos_Terço_Def#9L, Contatos_Terço_Central#10L, Contatos_Terço_de_Ataque#11L, Contatos_Att_Pen#12L, Contatos_Em_jogo#13L, Dribles_Tent#14L, Dribles_Suc#15L, Dribles_Suc%#16, Dribles_Tkld#17L, Dribles_Tkld%#18, Conducoes_Conducoes#393L, Conducoes_DistTot#423L, Conducoes_DistPrg#453L, Conducoes_Prgc#483L, Conduções_1/3#23L, ... 10 more fields]\n      :                 +- Project [index#0L, Jogador#333, Unnamed:_1_level_0_##2, Unnamed:_2_level_0_Nação#3, Unnamed:_3_level_0_Pos.#4, Unnamed:_4_level_0_Idade#5, Minutos#363L, Contatos_Contatos#7L, Contatos_Def_Pen#8L, Contatos_Terço_Def#9L, Contatos_Terço_Central#10L, Contatos_Terço_de_Ataque#11L, Contatos_Att_Pen#12L, Contatos_Em_jogo#13L, Dribles_Tent#14L, Dribles_Suc#15L, Dribles_Suc%#16, Dribles_Tkld#17L, Dribles_Tkld%#18, Conducoes_Conducoes#393L, Conducoes_DistTot#423L, Conducoes_DistPrg#453L, Conducoes_Prgc#483L, Conduções_1/3#23L, ... 11 more fields]\n      :                    +- Window [sum(Conducoes_Perda_Dominio#513L) windowspecdefinition(specifiedwindowframe(RowFrame, unboundedpreceding$(), unboundedfollowing$())) AS _we0#713L]\n      :                       +- Project [index#0L, Jogador#333, Unnamed:_1_level_0_##2, Unnamed:_2_level_0_Nação#3, Unnamed:_3_level_0_Pos.#4, Unnamed:_4_level_0_Idade#5, Minutos#363L, Contatos_Contatos#7L, Contatos_Def_Pen#8L, Contatos_Terço_Def#9L, Contatos_Terço_Central#10L, Contatos_Terço_de_Ataque#11L, Contatos_Att_Pen#12L, Contatos_Em_jogo#13L, Dribles_Tent#14L, Dribles_Suc#15L, Dribles_Suc%#16, Dribles_Tkld#17L, Dribles_Tkld%#18, Conducoes_Conducoes#393L, Conducoes_DistTot#423L, Conducoes_DistPrg#453L, Conducoes_Prgc#483L, Conduções_1/3#23L, ... 9 more fields]\n      :                          +- Project [index#0L, Jogador#333, Unnamed:_1_level_0_##2, Unnamed:_2_level_0_Nação#3, Unnamed:_3_level_0_Pos.#4, Unnamed:_4_level_0_Idade#5, Minutos#363L, Contatos_Contatos#7L, Contatos_Def_Pen#8L, Contatos_Terço_Def#9L, Contatos_Terço_Central#10L, Contatos_Terço_de_Ataque#11L, Contatos_Att_Pen#12L, Contatos_Em_jogo#13L, Dribles_Tent#14L, Dribles_Suc#15L, Dribles_Suc%#16, Dribles_Tkld#17L, Dribles_Tkld%#18, Conducoes_Conducoes#393L, Conducoes_DistTot#423L, Conducoes_DistPrg#453L, Conducoes_Prgc#483L, Conduções_1/3#23L, ... 9 more fields]\n      :                             +- Project [index#0L, Jogador#333, Unnamed:_1_level_0_##2, Unnamed:_2_level_0_Nação#3, Unnamed:_3_level_0_Pos.#4, Unnamed:_4_level_0_Idade#5, Minutos#363L, Contatos_Contatos#7L, Contatos_Def_Pen#8L, Contatos_Terço_Def#9L, Contatos_Terço_Central#10L, Contatos_Terço_de_Ataque#11L, Contatos_Att_Pen#12L, Contatos_Em_jogo#13L, Dribles_Tent#14L, Dribles_Suc#15L, Dribles_Suc%#16, Dribles_Tkld#17L, Dribles_Tkld%#18, Conducoes_Conducoes#393L, Conducoes_DistTot#423L, Conducoes_DistPrg#453L, Conducoes_Prgc#483L, Conduções_1/3#23L, ... 10 more fields]\n      :                                +- Window [sum(Conducoes_Prgc#483L) windowspecdefinition(specifiedwindowframe(RowFrame, unboundedpreceding$(), unboundedfollowing$())) AS _we0#677L]\n      :                                   +- Project [index#0L, Jogador#333, Unnamed:_1_level_0_##2, Unnamed:_2_level_0_Nação#3, Unnamed:_3_level_0_Pos.#4, Unnamed:_4_level_0_Idade#5, Minutos#363L, Contatos_Contatos#7L, Contatos_Def_Pen#8L, Contatos_Terço_Def#9L, Contatos_Terço_Central#10L, Contatos_Terço_de_Ataque#11L, Contatos_Att_Pen#12L, Contatos_Em_jogo#13L, Dribles_Tent#14L, Dribles_Suc#15L, Dribles_Suc%#16, Dribles_Tkld#17L, Dribles_Tkld%#18, Conducoes_Conducoes#393L, Conducoes_DistTot#423L, Conducoes_DistPrg#453L, Conducoes_Prgc#483L, Conduções_1/3#23L, ... 8 more fields]\n      :                                      +- Project [index#0L, Jogador#333, Unnamed:_1_level_0_##2, Unnamed:_2_level_0_Nação#3, Unnamed:_3_level_0_Pos.#4, Unnamed:_4_level_0_Idade#5, Minutos#363L, Contatos_Contatos#7L, Contatos_Def_Pen#8L, Contatos_Terço_Def#9L, Contatos_Terço_Central#10L, Contatos_Terço_de_Ataque#11L, Contatos_Att_Pen#12L, Contatos_Em_jogo#13L, Dribles_Tent#14L, Dribles_Suc#15L, Dribles_Suc%#16, Dribles_Tkld#17L, Dribles_Tkld%#18, Conducoes_Conducoes#393L, Conducoes_DistTot#423L, Conducoes_DistPrg#453L, Conducoes_Prgc#483L, Conduções_1/3#23L, ... 8 more fields]\n      :                                         +- Project [index#0L, Jogador#333, Unnamed:_1_level_0_##2, Unnamed:_2_level_0_Nação#3, Unnamed:_3_level_0_Pos.#4, Unnamed:_4_level_0_Idade#5, Minutos#363L, Contatos_Contatos#7L, Contatos_Def_Pen#8L, Contatos_Terço_Def#9L, Contatos_Terço_Central#10L, Contatos_Terço_de_Ataque#11L, Contatos_Att_Pen#12L, Contatos_Em_jogo#13L, Dribles_Tent#14L, Dribles_Suc#15L, Dribles_Suc%#16, Dribles_Tkld#17L, Dribles_Tkld%#18, Conducoes_Conducoes#393L, Conducoes_DistTot#423L, Conducoes_DistPrg#453L, Conducoes_Prgc#483L, Conduções_1/3#23L, ... 9 more fields]\n      :                                            +- Window [sum(Conducoes_DistPrg#453L) windowspecdefinition(specifiedwindowframe(RowFrame, unboundedpreceding$(), unboundedfollowing$())) AS _we0#642L]\n      :                                               +- Project [index#0L, Jogador#333, Unnamed:_1_level_0_##2, Unnamed:_2_level_0_Nação#3, Unnamed:_3_level_0_Pos.#4, Unnamed:_4_level_0_Idade#5, Minutos#363L, Contatos_Contatos#7L, Contatos_Def_Pen#8L, Contatos_Terço_Def#9L, Contatos_Terço_Central#10L, Contatos_Terço_de_Ataque#11L, Contatos_Att_Pen#12L, Contatos_Em_jogo#13L, Dribles_Tent#14L, Dribles_Suc#15L, Dribles_Suc%#16, Dribles_Tkld#17L, Dribles_Tkld%#18, Conducoes_Conducoes#393L, Conducoes_DistTot#423L, Conducoes_DistPrg#453L, Conducoes_Prgc#483L, Conduções_1/3#23L, ... 7 more fields]\n      :                                                  +- Project [index#0L, Jogador#333, Unnamed:_1_level_0_##2, Unnamed:_2_level_0_Nação#3, Unnamed:_3_level_0_Pos.#4, Unnamed:_4_level_0_Idade#5, Minutos#363L, Contatos_Contatos#7L, Contatos_Def_Pen#8L, Contatos_Terço_Def#9L, Contatos_Terço_Central#10L, Contatos_Terço_de_Ataque#11L, Contatos_Att_Pen#12L, Contatos_Em_jogo#13L, Dribles_Tent#14L, Dribles_Suc#15L, Dribles_Suc%#16, Dribles_Tkld#17L, Dribles_Tkld%#18, Conducoes_Conducoes#393L, Conducoes_DistTot#423L, Conducoes_DistPrg#453L, Conducoes_Prgc#483L, Conduções_1/3#23L, ... 7 more fields]\n      :                                                     +- Project [index#0L, Jogador#333, Unnamed:_1_level_0_##2, Unnamed:_2_level_0_Nação#3, Unnamed:_3_level_0_Pos.#4, Unnamed:_4_level_0_Idade#5, Minutos#363L, Contatos_Contatos#7L, Contatos_Def_Pen#8L, Contatos_Terço_Def#9L, Contatos_Terço_Central#10L, Contatos_Terço_de_Ataque#11L, Contatos_Att_Pen#12L, Contatos_Em_jogo#13L, Dribles_Tent#14L, Dribles_Suc#15L, Dribles_Suc%#16, Dribles_Tkld#17L, Dribles_Tkld%#18, Conducoes_Conducoes#393L, Conducoes_DistTot#423L, Conducoes_DistPrg#453L, Conducoes_Prgc#483L, Conduções_1/3#23L, ... 8 more fields]\n      :                                                        +- Window [sum(Conducoes_DistTot#423L) windowspecdefinition(specifiedwindowframe(RowFrame, unboundedpreceding$(), unboundedfollowing$())) AS _we0#608L]\n      :                                                           +- Project [index#0L, Jogador#333, Unnamed:_1_level_0_##2, Unnamed:_2_level_0_Nação#3, Unnamed:_3_level_0_Pos.#4, Unnamed:_4_level_0_Idade#5, Minutos#363L, Contatos_Contatos#7L, Contatos_Def_Pen#8L, Contatos_Terço_Def#9L, Contatos_Terço_Central#10L, Contatos_Terço_de_Ataque#11L, Contatos_Att_Pen#12L, Contatos_Em_jogo#13L, Dribles_Tent#14L, Dribles_Suc#15L, Dribles_Suc%#16, Dribles_Tkld#17L, Dribles_Tkld%#18, Conducoes_Conducoes#393L, Conducoes_DistTot#423L, Conducoes_DistPrg#453L, Conducoes_Prgc#483L, Conduções_1/3#23L, ... 6 more fields]\n      :                                                              +- Project [index#0L, Jogador#333, Unnamed:_1_level_0_##2, Unnamed:_2_level_0_Nação#3, Unnamed:_3_level_0_Pos.#4, Unnamed:_4_level_0_Idade#5, Minutos#363L, Contatos_Contatos#7L, Contatos_Def_Pen#8L, Contatos_Terço_Def#9L, Contatos_Terço_Central#10L, Contatos_Terço_de_Ataque#11L, Contatos_Att_Pen#12L, Contatos_Em_jogo#13L, Dribles_Tent#14L, Dribles_Suc#15L, Dribles_Suc%#16, Dribles_Tkld#17L, Dribles_Tkld%#18, Conducoes_Conducoes#393L, Conducoes_DistTot#423L, Conducoes_DistPrg#453L, Conducoes_Prgc#483L, Conduções_1/3#23L, ... 6 more fields]\n      :                                                                 +- Project [index#0L, Jogador#333, Unnamed:_1_level_0_##2, Unnamed:_2_level_0_Nação#3, Unnamed:_3_level_0_Pos.#4, Unnamed:_4_level_0_Idade#5, Minutos#363L, Contatos_Contatos#7L, Contatos_Def_Pen#8L, Contatos_Terço_Def#9L, Contatos_Terço_Central#10L, Contatos_Terço_de_Ataque#11L, Contatos_Att_Pen#12L, Contatos_Em_jogo#13L, Dribles_Tent#14L, Dribles_Suc#15L, Dribles_Suc%#16, Dribles_Tkld#17L, Dribles_Tkld%#18, Conducoes_Conducoes#393L, Conducoes_DistTot#423L, Conducoes_DistPrg#453L, Conducoes_Prgc#483L, Conduções_1/3#23L, ... 7 more fields]\n      :                                                                    +- Window [sum(Conducoes_Conducoes#393L) windowspecdefinition(specifiedwindowframe(RowFrame, unboundedpreceding$(), unboundedfollowing$())) AS _we0#575L]\n      :                                                                       +- Project [index#0L, Jogador#333, Unnamed:_1_level_0_##2, Unnamed:_2_level_0_Nação#3, Unnamed:_3_level_0_Pos.#4, Unnamed:_4_level_0_Idade#5, Minutos#363L, Contatos_Contatos#7L, Contatos_Def_Pen#8L, Contatos_Terço_Def#9L, Contatos_Terço_Central#10L, Contatos_Terço_de_Ataque#11L, Contatos_Att_Pen#12L, Contatos_Em_jogo#13L, Dribles_Tent#14L, Dribles_Suc#15L, Dribles_Suc%#16, Dribles_Tkld#17L, Dribles_Tkld%#18, Conducoes_Conducoes#393L, Conducoes_DistTot#423L, Conducoes_DistPrg#453L, Conducoes_Prgc#483L, Conduções_1/3#23L, ... 5 more fields]\n      :                                                                          +- Project [index#0L, Jogador#333, Unnamed:_1_level_0_##2, Unnamed:_2_level_0_Nação#3, Unnamed:_3_level_0_Pos.#4, Unnamed:_4_level_0_Idade#5, Minutos#363L, Contatos_Contatos#7L, Contatos_Def_Pen#8L, Contatos_Terço_Def#9L, Contatos_Terço_Central#10L, Contatos_Terço_de_Ataque#11L, Contatos_Att_Pen#12L, Contatos_Em_jogo#13L, Dribles_Tent#14L, Dribles_Suc#15L, Dribles_Suc%#16, Dribles_Tkld#17L, Dribles_Tkld%#18, Conducoes_Conducoes#393L, Conducoes_DistTot#423L, Conducoes_DistPrg#453L, Conducoes_Prgc#483L, Conduções_1/3#23L, ... 5 more fields]\n      :                                                                             +- Project [index#0L, Jogador#333, Unnamed:_1_level_0_##2, Unnamed:_2_level_0_Nação#3, Unnamed:_3_level_0_Pos.#4, Unnamed:_4_level_0_Idade#5, Minutos#363L, Contatos_Contatos#7L, Contatos_Def_Pen#8L, Contatos_Terço_Def#9L, Contatos_Terço_Central#10L, Contatos_Terço_de_Ataque#11L, Contatos_Att_Pen#12L, Contatos_Em_jogo#13L, Dribles_Tent#14L, Dribles_Suc#15L, Dribles_Suc%#16, Dribles_Tkld#17L, Dribles_Tkld%#18, Conducoes_Conducoes#393L, Conducoes_DistTot#423L, Conducoes_DistPrg#453L, Conducoes_Prgc#483L, Conduções_1/3#23L, ... 5 more fields]\n      :                                                                                +- Project [index#0L, Jogador#333, Unnamed:_1_level_0_##2, Unnamed:_2_level_0_Nação#3, Unnamed:_3_level_0_Pos.#4, Unnamed:_4_level_0_Idade#5, Minutos#363L, Contatos_Contatos#7L, Contatos_Def_Pen#8L, Contatos_Terço_Def#9L, Contatos_Terço_Central#10L, Contatos_Terço_de_Ataque#11L, Contatos_Att_Pen#12L, Contatos_Em_jogo#13L, Dribles_Tent#14L, Dribles_Suc#15L, Dribles_Suc%#16, Dribles_Tkld#17L, Dribles_Tkld%#18, Conducoes_Conducoes#393L, Conducoes_DistTot#423L, Conducoes_DistPrg#453L, Conduções_PrgC#22L AS Conducoes_Prgc#483L, Conduções_1/3#23L, ... 5 more fields]\n      :                                                                                   +- Project [index#0L, Jogador#333, Unnamed:_1_level_0_##2, Unnamed:_2_level_0_Nação#3, Unnamed:_3_level_0_Pos.#4, Unnamed:_4_level_0_Idade#5, Minutos#363L, Contatos_Contatos#7L, Contatos_Def_Pen#8L, Contatos_Terço_Def#9L, Contatos_Terço_Central#10L, Contatos_Terço_de_Ataque#11L, Contatos_Att_Pen#12L, Contatos_Em_jogo#13L, Dribles_Tent#14L, Dribles_Suc#15L, Dribles_Suc%#16, Dribles_Tkld#17L, Dribles_Tkld%#18, Conducoes_Conducoes#393L, Conducoes_DistTot#423L, Conduções_DistPrg#21L AS Conducoes_DistPrg#453L, Conduções_PrgC#22L, Conduções_1/3#23L, ... 5 more fields]\n      :                                                                                      +- Project [index#0L, Jogador#333, Unnamed:_1_level_0_##2, Unnamed:_2_level_0_Nação#3, Unnamed:_3_level_0_Pos.#4, Unnamed:_4_level_0_Idade#5, Minutos#363L, Contatos_Contatos#7L, Contatos_Def_Pen#8L, Contatos_Terço_Def#9L, Contatos_Terço_Central#10L, Contatos_Terço_de_Ataque#11L, Contatos_Att_Pen#12L, Contatos_Em_jogo#13L, Dribles_Tent#14L, Dribles_Suc#15L, Dribles_Suc%#16, Dribles_Tkld#17L, Dribles_Tkld%#18, Conducoes_Conducoes#393L, Conduções_DistTot#20L AS Conducoes_DistTot#423L, Conduções_DistPrg#21L, Conduções_PrgC#22L, Conduções_1/3#23L, ... 5 more fields]\n      :                                                                                         +- Project [index#0L, Jogador#333, Unnamed:_1_level_0_##2, Unnamed:_2_level_0_Nação#3, Unnamed:_3_level_0_Pos.#4, Unnamed:_4_level_0_Idade#5, Minutos#363L, Contatos_Contatos#7L, Contatos_Def_Pen#8L, Contatos_Terço_Def#9L, Contatos_Terço_Central#10L, Contatos_Terço_de_Ataque#11L, Contatos_Att_Pen#12L, Contatos_Em_jogo#13L, Dribles_Tent#14L, Dribles_Suc#15L, Dribles_Suc%#16, Dribles_Tkld#17L, Dribles_Tkld%#18, Conduções_Conduções#19L AS Conducoes_Conducoes#393L, Conduções_DistTot#20L, Conduções_DistPrg#21L, Conduções_PrgC#22L, Conduções_1/3#23L, ... 5 more fields]\n      :                                                                                            +- Project [index#0L, Jogador#333, Unnamed:_1_level_0_##2, Unnamed:_2_level_0_Nação#3, Unnamed:_3_level_0_Pos.#4, Unnamed:_4_level_0_Idade#5, Unnamed:_5_level_0_Min.#6L AS Minutos#363L, Contatos_Contatos#7L, Contatos_Def_Pen#8L, Contatos_Terço_Def#9L, Contatos_Terço_Central#10L, Contatos_Terço_de_Ataque#11L, Contatos_Att_Pen#12L, Contatos_Em_jogo#13L, Dribles_Tent#14L, Dribles_Suc#15L, Dribles_Suc%#16, Dribles_Tkld#17L, Dribles_Tkld%#18, Conduções_Conduções#19L, Conduções_DistTot#20L, Conduções_DistPrg#21L, Conduções_PrgC#22L, Conduções_1/3#23L, ... 5 more fields]\n      :                                                                                               +- Project [index#0L, Unnamed:_0_level_0_Jogador#1 AS Jogador#333, Unnamed:_1_level_0_##2, Unnamed:_2_level_0_Nação#3, Unnamed:_3_level_0_Pos.#4, Unnamed:_4_level_0_Idade#5, Unnamed:_5_level_0_Min.#6L, Contatos_Contatos#7L, Contatos_Def_Pen#8L, Contatos_Terço_Def#9L, Contatos_Terço_Central#10L, Contatos_Terço_de_Ataque#11L, Contatos_Att_Pen#12L, Contatos_Em_jogo#13L, Dribles_Tent#14L, Dribles_Suc#15L, Dribles_Suc%#16, Dribles_Tkld#17L, Dribles_Tkld%#18, Conduções_Conduções#19L, Conduções_DistTot#20L, Conduções_DistPrg#21L, Conduções_PrgC#22L, Conduções_1/3#23L, ... 5 more fields]\n      :                                                                                                  +- Filter NOT (index#0L = cast(16 as bigint))\n      :                                                                                                     +- LogicalRDD [index#0L, Unnamed:_0_level_0_Jogador#1, Unnamed:_1_level_0_##2, Unnamed:_2_level_0_Nação#3, Unnamed:_3_level_0_Pos.#4, Unnamed:_4_level_0_Idade#5, Unnamed:_5_level_0_Min.#6L, Contatos_Contatos#7L, Contatos_Def_Pen#8L, Contatos_Terço_Def#9L, Contatos_Terço_Central#10L, Contatos_Terço_de_Ataque#11L, Contatos_Att_Pen#12L, Contatos_Em_jogo#13L, Dribles_Tent#14L, Dribles_Suc#15L, Dribles_Suc%#16, Dribles_Tkld#17L, Dribles_Tkld%#18, Conduções_Conduções#19L, Conduções_DistTot#20L, Conduções_DistPrg#21L, Conduções_PrgC#22L, Conduções_1/3#23L, ... 5 more fields], false\n      +- LogicalRDD [nome#181, posicao#182], false\n"
          ]
        }
      ]
    }
  ]
}